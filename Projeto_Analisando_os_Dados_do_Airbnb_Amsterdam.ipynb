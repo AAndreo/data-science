{
  "nbformat": 4,
  "nbformat_minor": 0,
  "metadata": {
    "colab": {
      "provenance": [],
      "collapsed_sections": [],
      "include_colab_link": true
    },
    "kernelspec": {
      "name": "python3",
      "display_name": "Python 3"
    }
  },
  "cells": [
    {
      "cell_type": "markdown",
      "metadata": {
        "id": "view-in-github",
        "colab_type": "text"
      },
      "source": [
        "<a href=\"https://colab.research.google.com/github/AAndreo/data-science/blob/main/Projeto_Analisando_os_Dados_do_Airbnb_Amsterdam.ipynb\" target=\"_parent\"><img src=\"https://colab.research.google.com/assets/colab-badge.svg\" alt=\"Open In Colab\"/></a>"
      ]
    },
    {
      "cell_type": "markdown",
      "metadata": {
        "id": "QAFDavV4FqSA"
      },
      "source": [
        "<img alt=\"Colaboratory logo\" width=\"15%\" src=\"https://raw.githubusercontent.com/carlosfab/escola-data-science/master/img/novo_logo_bg_claro.png\">\n",
        "\n",
        "#### **Data Science na Prática 3.0**\n",
        "*by [sigmoidal.ai](https://sigmoidal.ai)*\n",
        "\n",
        "---\n",
        "\n",
        "\n",
        "# ***Análise dos Dados do Airbnb***\n",
        "\n",
        "<center><img alt=\"Amsterdam logo\" width=\"50%\" src=\"https://raw.githubusercontent.com/AAndreo/data-science/main/img/Amsterdam2.png\"></center>\n",
        "\n",
        "\n",
        "## ***Um pouco sobre o que é o Airbnb***\n",
        "O [Airbnb](https://www.airbnb.com.br/) fundado em Agosto de 2008, permite aos indivíduos alugar o todo ou parte de sua própria casa, como uma forma de acomodação extra.\n",
        "\n",
        "O site fornece uma plataforma de busca e reservas entre a pessoa que oferece a acomodação e o turista que busca pela locação, sendo atualmente considerada, a maior empresa hoteleira.\n",
        "\n",
        "## ***Conhecendo Amsterdã***\n",
        "\n",
        "<center><img alt=\"Amsterdam loc1\" width=\"50%\" src=\"https://raw.githubusercontent.com/AAndreo/data-science/main/img/passagens-aereas-amsterda-capa2019-03.jpg\"></center>\n",
        "\n",
        "\n",
        "Falaremos um pouco sobre Amsterdã, a capital e a cidade mais populosa do Reino dos Países Baixos.\n",
        "\n",
        "Bem, o que posso dizer é que Amsterdã é capaz de encantar o visitante desde o primeiro momento e não são poucas as pessoas que aqui voltam várias e várias vezes. Um destino cheio de paisagens encantadoras, arquitetura de tirar o fôlego, ruas “cortadas” por ciclovias, canais e onde encontram-se pelo menos mil pontes.\n",
        "\n",
        "Uma cidade com uma atmosfera incrível, cheia de história, romântica e com opções de entretenimento que agradam pessoas de todas as idades: museus como o **Van Gogh** e o **Rijks**, bares e restaurantes para todos os gostos, bairros vibrantes como o **Jordaan** e o **De Pijp**, parques como o **Vondelpark**, praças como a **Leidseplein**, a **Dam** e a **Rembrandtplein**, e festividades como **O Dia do Rei** (27 de abril) e muito mais.\n",
        "\n",
        "\n",
        "\n",
        "\n",
        "\n",
        "## ***Amsterdã a capital das bicicletas.***\n",
        "<center><img alt=\"Amsterdam loc1\" align=\"center\" width=\"50%\" src=\"https://raw.githubusercontent.com/AAndreo/data-science/main/img/cozy-courtyards-of-amsterdam-benches-bicycles-flowers-in-tubs.png\n",
        "\"\n",
        "></center>\n",
        "\n",
        "***Por que Amsterdã é a capital das bicicletas?***\n",
        "\n",
        "> Amsterdã é mundialmente conhecida pelo uso das bicicletas e essa fama não é à toa, estima-se que ao todo a Holanda tenha aproximadamente uma bicicleta, para cada um dos seus 16 milhões de habitantes.\n",
        "\n",
        "<center><img alt=\"Amsterdam loc1\" align=\"center\" width=\"30%\" src=\"https://raw.githubusercontent.com/AAndreo/data-science/main/img/Amsterdam_bikes.png\"\n",
        "></center>\n",
        "\n",
        "> Na capital holandesa, há algum tempo a bike já é o meio de transporte mais utilizado. As pessoas pedalam não só de final de semana, como também para trabalhar, ir ao mercado e fazer todas as outras tarefas do dia a dia. Amsterdã é uma cidade predominantemente plana, o que facilita na hora da pedalada, são quilômetros e mais quilômetros de ciclovia e tudo é bem sinalizado.\n",
        "\n",
        "> Mas essa paixão entre os holandeses e o veículo de duas rodas não surgiu de um dia para o outro. Tudo começou após o final da Segunda Guerra Mundial, quando as indústrias automobilísticas começaram a se desenvolver com mais força e as pessoas começaram a adquirir automóveis e a gerar um trânsito caótico, já que a cidade não era planejada para o volume de carros.\n",
        "\n",
        "> Quando o preço do petróleo subiu muito, por volta da década de 70, o governo criou uma política de incentivo ao uso da bicicleta e proibiu que carros circulassem aos domingos. Com isso, as pessoas voltaram a se readaptar a rotina com as bikes e deixar os outros meios de transporte um pouco de lado.\n",
        "\n",
        "> Hoje a bicicleta é quase um estilo de vida, assim ela e os holandeses são inseparáveis. Os turistas que visitam Amsterdã conseguem alugar uma magrela por cerca de 10 euros ao dia e ainda aproveitam pedalando pelas margens dos canais e sobre as várias pontes e pontos turísticos da cidade.\n",
        "\n",
        "## ***Sobre o turismo***\n",
        "No mundo, centenas de cidades possuem restrições para locações de curto prazo e com Amsterdã não foi diferente, impondo restrições à plataforma nesse sentido.\n",
        "\n",
        "O fenômeno do turismo excessivo pegou de surpresa a capital da Holanda. Apenas alguns anos atrás, as coisas iam mal, pois ela ainda tentava se recuperar dos efeitos da crise financeira global. \n",
        "Comerciantes deixavam a cidade, e quase não havia turistas.\n",
        "\n",
        "A partir de 2018, dezenove milhões de pessoas visitaram a cidade de 850 mil habitantes, e os números continuam crescendo, graças a voos baratos e à facilidade de reservar acomodação online.\n",
        "\n",
        "Existe uma estimativa que a cidade receba 29 milhões de turistas em 2025. \n",
        "\n",
        "Desde então, a cidade vem combatendo o turismo em massa, nessa tentativa a prefeitura quer limitar o número de lojas de souvenir, hotéis e acomodações no Airbnb.\n",
        "\n",
        "Também por isso, a municipalidade está adotando medidas relativas a plataformas de aluguel privado, como Airbnb e Booking.com. Segundo novas regras, os proprietários de imóveis não podem sublocar para essas operadoras por mais de 30 dias por ano, e discute-se até uma proibição radical do Airbnb para certas ruas.\n",
        "\n",
        "Apesar dessas medidas, Amsterdã continua dando boas-vindas aos turistas.\n",
        "\n",
        "O que se tem feito são campanhas para melhorar sua reputação, a fim de sensibilizar mais os turistas para o fato de que o centro de Amsterdã não é uma zona de festas.\n",
        "\n",
        "Moradores, apoiados pela prefeitura, lançaram a iniciativa \"Eu vivo aqui\". Em murais de grande porte, eles pedem aos visitantes que se comportem como se estivessem em suas próprias casas e em seus próprios bairros.\n",
        "\n",
        "Sendo assim, nesse projeto faço uma análise exploratória dos dados referentes à cidade Amsterdã, fornecidos pela plataforma [Airbnb](https://www.airbnb.com.br/) e busco trazer informações sobre oportunidades de locação, valores de aluguel, localização e outros dados que possam auxiliar o viajante a fazer a melhor escolha de hospedagem.\n",
        "\n",
        "<center><img alt=\"Analisando Airbnb\" width=\"10%\" src=\"https://www.area360.com.au/wp-content/uploads/2017/09/airbnb-logo.jpg\"></center>"
      ]
    },
    {
      "cell_type": "markdown",
      "metadata": {
        "id": "0zxQHhIUDF_2"
      },
      "source": [
        "## *Obtenção dos Dados*\n",
        "\n",
        "\n",
        "Todos os dados usados aqui foram obtidos a partir do site [Inside Airbnb](http://insideairbnb.com/get-the-data.html).\n",
        "\n",
        "Para esta análise exploratória inicial, será baixado apenas o seguinte arquivo:\n",
        "\n",
        "* `listings.csv` - *Informações resumidas e métricas para listagens em Amsterdã (bom para visualizações).* \n",
        "\n",
        "Os dados utilizados neste projeto são referentes a compilação do Airbnb do dia 07/09/2022."
      ]
    },
    {
      "cell_type": "markdown",
      "source": [
        "Para darmos início em nosso estudo, faremos a importação de todos os pacotes necessários para o desenvolvimento do projeto."
      ],
      "metadata": {
        "id": "LWC83Bq10svm"
      }
    },
    {
      "cell_type": "code",
      "metadata": {
        "id": "Vhp2wMPgJ6zX"
      },
      "source": [
        "# importar os pacotes necessarios\n",
        "import pandas as pd\n",
        "import matplotlib.pyplot as plt\n",
        "import seaborn as sns\n",
        "from IPython.display import display \n",
        "\n",
        "%matplotlib inline\n"
      ],
      "execution_count": 2,
      "outputs": []
    },
    {
      "cell_type": "code",
      "metadata": {
        "id": "tUmoAT8DLQ5T"
      },
      "source": [
        "# importar o arquivo listings.csv para um DataFrame\n",
        "\n",
        "df = pd.read_csv(\"http://data.insideairbnb.com/the-netherlands/north-holland/amsterdam/2022-09-07/visualisations/listings.csv\")"
      ],
      "execution_count": 3,
      "outputs": []
    },
    {
      "cell_type": "markdown",
      "metadata": {
        "id": "qb5By2nIMS6m"
      },
      "source": [
        "## *Análise dos Dados*\n"
      ]
    },
    {
      "cell_type": "markdown",
      "metadata": {
        "id": "g5jVOe_cSFCu"
      },
      "source": [
        "Esta etapa tem por objetivo buscar informações gerais da estrutura dos dados, contendo as variáveis, descrição da sua função e seu respectivo tipo de dado."
      ]
    },
    {
      "cell_type": "markdown",
      "metadata": {
        "id": "bLhjZkGOSM75"
      },
      "source": [
        "**Dicionário das variáveis**\n",
        "\n",
        "| Variável                       | Descrição                                               |\n",
        "|--------------------------------|---------------------------------------------------------|\n",
        "| id                             | número de id gerado para identificar o imóvel           |\n",
        "| name                           | nome da propriedade anunciada                           |\n",
        "| host_id                        | número de id do proprietário (anfitrião) da propriedade |\n",
        "| host_name                      | Nome do anfitrião                                       |\n",
        "| neighbourhood_group            | esta coluna não contém nenhum valor válido              |\n",
        "| neighbourhood                  | nome do bairro                                          |\n",
        "| latitude                       | coordenada da latitude da propriedade                   |\n",
        "| longitude                      | coordenada da longitude da propriedade                  |\n",
        "| room_type                      | informa o tipo de quarto que é oferecido                |\n",
        "| price                          | preço para alugar o imóvel                              |\n",
        "| minimum_nights                 | quantidade mínima de noites para reservar               |\n",
        "| number_of_reviews              | número de reviews que a propriedade possui              |\n",
        "| last_review                    | data do último review                                   |\n",
        "| reviews_per_month              | quantidade de reviews por mês                           |\n",
        "| calculated_host_listings_count | quantidade de imóveis do mesmo anfitrião                |\n",
        "| availability_365               | número de dias de disponibilidade dentro de 365 dias    |"
      ]
    },
    {
      "cell_type": "code",
      "metadata": {
        "id": "2iS_dae7YQtO",
        "colab": {
          "base_uri": "https://localhost:8080/",
          "height": 617
        },
        "outputId": "ae78d064-d2cb-4c83-9808-1762664724a8"
      },
      "source": [
        "# mostrar as 5 primeiras entradas\n",
        "df.head()"
      ],
      "execution_count": null,
      "outputs": [
        {
          "output_type": "execute_result",
          "data": {
            "text/plain": [
              "      id                                               name  host_id  \\\n",
              "0   2818           Quiet Garden View Room & Super Fast WiFi     3159   \n",
              "1  20168       Studio with private bathroom in the centre 1    59484   \n",
              "2  27886  Romantic, stylish B&B houseboat in canal district    97647   \n",
              "3  28871                            Comfortable double room   124245   \n",
              "4  29051                            Comfortable single room   124245   \n",
              "\n",
              "   host_name  neighbourhood_group                           neighbourhood  \\\n",
              "0     Daniel                  NaN  Oostelijk Havengebied - Indische Buurt   \n",
              "1  Alexander                  NaN                            Centrum-Oost   \n",
              "2       Flip                  NaN                            Centrum-West   \n",
              "3      Edwin                  NaN                            Centrum-West   \n",
              "4      Edwin                  NaN                            Centrum-Oost   \n",
              "\n",
              "   latitude  longitude     room_type  price  minimum_nights  \\\n",
              "0  52.36435    4.94358  Private room     49               3   \n",
              "1  52.36407    4.89393  Private room    106               1   \n",
              "2  52.38761    4.89188  Private room    136               2   \n",
              "3  52.36775    4.89092  Private room     75               2   \n",
              "4  52.36584    4.89111  Private room     55               2   \n",
              "\n",
              "   number_of_reviews last_review  reviews_per_month  \\\n",
              "0                305  2022-08-30               1.86   \n",
              "1                339  2020-04-09               2.22   \n",
              "2                231  2022-04-24               1.78   \n",
              "3                428  2022-08-24               2.92   \n",
              "4                582  2022-08-29               4.16   \n",
              "\n",
              "   calculated_host_listings_count  availability_365  number_of_reviews_ltm  \\\n",
              "0                               1                14                     25   \n",
              "1                               2                 0                      0   \n",
              "2                               1               121                      8   \n",
              "3                               2               117                     75   \n",
              "4                               2               160                     86   \n",
              "\n",
              "                    license  \n",
              "0  0363 5F3A 5684 6750 D14D  \n",
              "1  0363 CBB3 2C10 0C2A 1E29  \n",
              "2  0363 974D 4986 7411 88D8  \n",
              "3  0363 607B EA74 0BD8 2F6F  \n",
              "4  0363 607B EA74 0BD8 2F6F  "
            ],
            "text/html": [
              "\n",
              "  <div id=\"df-858ab5a8-95a8-4c29-a5d3-41cc8a41cd55\">\n",
              "    <div class=\"colab-df-container\">\n",
              "      <div>\n",
              "<style scoped>\n",
              "    .dataframe tbody tr th:only-of-type {\n",
              "        vertical-align: middle;\n",
              "    }\n",
              "\n",
              "    .dataframe tbody tr th {\n",
              "        vertical-align: top;\n",
              "    }\n",
              "\n",
              "    .dataframe thead th {\n",
              "        text-align: right;\n",
              "    }\n",
              "</style>\n",
              "<table border=\"1\" class=\"dataframe\">\n",
              "  <thead>\n",
              "    <tr style=\"text-align: right;\">\n",
              "      <th></th>\n",
              "      <th>id</th>\n",
              "      <th>name</th>\n",
              "      <th>host_id</th>\n",
              "      <th>host_name</th>\n",
              "      <th>neighbourhood_group</th>\n",
              "      <th>neighbourhood</th>\n",
              "      <th>latitude</th>\n",
              "      <th>longitude</th>\n",
              "      <th>room_type</th>\n",
              "      <th>price</th>\n",
              "      <th>minimum_nights</th>\n",
              "      <th>number_of_reviews</th>\n",
              "      <th>last_review</th>\n",
              "      <th>reviews_per_month</th>\n",
              "      <th>calculated_host_listings_count</th>\n",
              "      <th>availability_365</th>\n",
              "      <th>number_of_reviews_ltm</th>\n",
              "      <th>license</th>\n",
              "    </tr>\n",
              "  </thead>\n",
              "  <tbody>\n",
              "    <tr>\n",
              "      <th>0</th>\n",
              "      <td>2818</td>\n",
              "      <td>Quiet Garden View Room &amp; Super Fast WiFi</td>\n",
              "      <td>3159</td>\n",
              "      <td>Daniel</td>\n",
              "      <td>NaN</td>\n",
              "      <td>Oostelijk Havengebied - Indische Buurt</td>\n",
              "      <td>52.36435</td>\n",
              "      <td>4.94358</td>\n",
              "      <td>Private room</td>\n",
              "      <td>49</td>\n",
              "      <td>3</td>\n",
              "      <td>305</td>\n",
              "      <td>2022-08-30</td>\n",
              "      <td>1.86</td>\n",
              "      <td>1</td>\n",
              "      <td>14</td>\n",
              "      <td>25</td>\n",
              "      <td>0363 5F3A 5684 6750 D14D</td>\n",
              "    </tr>\n",
              "    <tr>\n",
              "      <th>1</th>\n",
              "      <td>20168</td>\n",
              "      <td>Studio with private bathroom in the centre 1</td>\n",
              "      <td>59484</td>\n",
              "      <td>Alexander</td>\n",
              "      <td>NaN</td>\n",
              "      <td>Centrum-Oost</td>\n",
              "      <td>52.36407</td>\n",
              "      <td>4.89393</td>\n",
              "      <td>Private room</td>\n",
              "      <td>106</td>\n",
              "      <td>1</td>\n",
              "      <td>339</td>\n",
              "      <td>2020-04-09</td>\n",
              "      <td>2.22</td>\n",
              "      <td>2</td>\n",
              "      <td>0</td>\n",
              "      <td>0</td>\n",
              "      <td>0363 CBB3 2C10 0C2A 1E29</td>\n",
              "    </tr>\n",
              "    <tr>\n",
              "      <th>2</th>\n",
              "      <td>27886</td>\n",
              "      <td>Romantic, stylish B&amp;B houseboat in canal district</td>\n",
              "      <td>97647</td>\n",
              "      <td>Flip</td>\n",
              "      <td>NaN</td>\n",
              "      <td>Centrum-West</td>\n",
              "      <td>52.38761</td>\n",
              "      <td>4.89188</td>\n",
              "      <td>Private room</td>\n",
              "      <td>136</td>\n",
              "      <td>2</td>\n",
              "      <td>231</td>\n",
              "      <td>2022-04-24</td>\n",
              "      <td>1.78</td>\n",
              "      <td>1</td>\n",
              "      <td>121</td>\n",
              "      <td>8</td>\n",
              "      <td>0363 974D 4986 7411 88D8</td>\n",
              "    </tr>\n",
              "    <tr>\n",
              "      <th>3</th>\n",
              "      <td>28871</td>\n",
              "      <td>Comfortable double room</td>\n",
              "      <td>124245</td>\n",
              "      <td>Edwin</td>\n",
              "      <td>NaN</td>\n",
              "      <td>Centrum-West</td>\n",
              "      <td>52.36775</td>\n",
              "      <td>4.89092</td>\n",
              "      <td>Private room</td>\n",
              "      <td>75</td>\n",
              "      <td>2</td>\n",
              "      <td>428</td>\n",
              "      <td>2022-08-24</td>\n",
              "      <td>2.92</td>\n",
              "      <td>2</td>\n",
              "      <td>117</td>\n",
              "      <td>75</td>\n",
              "      <td>0363 607B EA74 0BD8 2F6F</td>\n",
              "    </tr>\n",
              "    <tr>\n",
              "      <th>4</th>\n",
              "      <td>29051</td>\n",
              "      <td>Comfortable single room</td>\n",
              "      <td>124245</td>\n",
              "      <td>Edwin</td>\n",
              "      <td>NaN</td>\n",
              "      <td>Centrum-Oost</td>\n",
              "      <td>52.36584</td>\n",
              "      <td>4.89111</td>\n",
              "      <td>Private room</td>\n",
              "      <td>55</td>\n",
              "      <td>2</td>\n",
              "      <td>582</td>\n",
              "      <td>2022-08-29</td>\n",
              "      <td>4.16</td>\n",
              "      <td>2</td>\n",
              "      <td>160</td>\n",
              "      <td>86</td>\n",
              "      <td>0363 607B EA74 0BD8 2F6F</td>\n",
              "    </tr>\n",
              "  </tbody>\n",
              "</table>\n",
              "</div>\n",
              "      <button class=\"colab-df-convert\" onclick=\"convertToInteractive('df-858ab5a8-95a8-4c29-a5d3-41cc8a41cd55')\"\n",
              "              title=\"Convert this dataframe to an interactive table.\"\n",
              "              style=\"display:none;\">\n",
              "        \n",
              "  <svg xmlns=\"http://www.w3.org/2000/svg\" height=\"24px\"viewBox=\"0 0 24 24\"\n",
              "       width=\"24px\">\n",
              "    <path d=\"M0 0h24v24H0V0z\" fill=\"none\"/>\n",
              "    <path d=\"M18.56 5.44l.94 2.06.94-2.06 2.06-.94-2.06-.94-.94-2.06-.94 2.06-2.06.94zm-11 1L8.5 8.5l.94-2.06 2.06-.94-2.06-.94L8.5 2.5l-.94 2.06-2.06.94zm10 10l.94 2.06.94-2.06 2.06-.94-2.06-.94-.94-2.06-.94 2.06-2.06.94z\"/><path d=\"M17.41 7.96l-1.37-1.37c-.4-.4-.92-.59-1.43-.59-.52 0-1.04.2-1.43.59L10.3 9.45l-7.72 7.72c-.78.78-.78 2.05 0 2.83L4 21.41c.39.39.9.59 1.41.59.51 0 1.02-.2 1.41-.59l7.78-7.78 2.81-2.81c.8-.78.8-2.07 0-2.86zM5.41 20L4 18.59l7.72-7.72 1.47 1.35L5.41 20z\"/>\n",
              "  </svg>\n",
              "      </button>\n",
              "      \n",
              "  <style>\n",
              "    .colab-df-container {\n",
              "      display:flex;\n",
              "      flex-wrap:wrap;\n",
              "      gap: 12px;\n",
              "    }\n",
              "\n",
              "    .colab-df-convert {\n",
              "      background-color: #E8F0FE;\n",
              "      border: none;\n",
              "      border-radius: 50%;\n",
              "      cursor: pointer;\n",
              "      display: none;\n",
              "      fill: #1967D2;\n",
              "      height: 32px;\n",
              "      padding: 0 0 0 0;\n",
              "      width: 32px;\n",
              "    }\n",
              "\n",
              "    .colab-df-convert:hover {\n",
              "      background-color: #E2EBFA;\n",
              "      box-shadow: 0px 1px 2px rgba(60, 64, 67, 0.3), 0px 1px 3px 1px rgba(60, 64, 67, 0.15);\n",
              "      fill: #174EA6;\n",
              "    }\n",
              "\n",
              "    [theme=dark] .colab-df-convert {\n",
              "      background-color: #3B4455;\n",
              "      fill: #D2E3FC;\n",
              "    }\n",
              "\n",
              "    [theme=dark] .colab-df-convert:hover {\n",
              "      background-color: #434B5C;\n",
              "      box-shadow: 0px 1px 3px 1px rgba(0, 0, 0, 0.15);\n",
              "      filter: drop-shadow(0px 1px 2px rgba(0, 0, 0, 0.3));\n",
              "      fill: #FFFFFF;\n",
              "    }\n",
              "  </style>\n",
              "\n",
              "      <script>\n",
              "        const buttonEl =\n",
              "          document.querySelector('#df-858ab5a8-95a8-4c29-a5d3-41cc8a41cd55 button.colab-df-convert');\n",
              "        buttonEl.style.display =\n",
              "          google.colab.kernel.accessAllowed ? 'block' : 'none';\n",
              "\n",
              "        async function convertToInteractive(key) {\n",
              "          const element = document.querySelector('#df-858ab5a8-95a8-4c29-a5d3-41cc8a41cd55');\n",
              "          const dataTable =\n",
              "            await google.colab.kernel.invokeFunction('convertToInteractive',\n",
              "                                                     [key], {});\n",
              "          if (!dataTable) return;\n",
              "\n",
              "          const docLinkHtml = 'Like what you see? Visit the ' +\n",
              "            '<a target=\"_blank\" href=https://colab.research.google.com/notebooks/data_table.ipynb>data table notebook</a>'\n",
              "            + ' to learn more about interactive tables.';\n",
              "          element.innerHTML = '';\n",
              "          dataTable['output_type'] = 'display_data';\n",
              "          await google.colab.output.renderOutput(dataTable, element);\n",
              "          const docLink = document.createElement('div');\n",
              "          docLink.innerHTML = docLinkHtml;\n",
              "          element.appendChild(docLink);\n",
              "        }\n",
              "      </script>\n",
              "    </div>\n",
              "  </div>\n",
              "  "
            ]
          },
          "metadata": {},
          "execution_count": 4
        }
      ]
    },
    {
      "cell_type": "markdown",
      "metadata": {
        "id": "6-B_qtEaYEd-"
      },
      "source": [
        "### ***Quantos atributos (variáveis) e quantas entradas o nosso conjunto de dados possui? Quais os tipos das variáveis?***"
      ]
    },
    {
      "cell_type": "markdown",
      "metadata": {
        "id": "kH3fn4GMUImD"
      },
      "source": [
        "Identificando a quantidade de entradas (registros) do nosso conjuntos de dados e os tipos de dado de cada coluna.\n",
        "\n",
        "O *conjunto de dados* utilizado para esse projeto é a versão \"resumida\", disponibilizada no site [Inside Airbnb](http://insideairbnb.com/get-the-data.html).\n",
        "\n",
        "Nessa pagina também encontra-se versões com mais registros e variaveis para análise."
      ]
    },
    {
      "cell_type": "code",
      "metadata": {
        "colab": {
          "base_uri": "https://localhost:8080/"
        },
        "id": "m4_2jHF49Frf",
        "outputId": "9906c622-660e-47b8-90d9-b1b26bb893fe"
      },
      "source": [
        "df.shape"
      ],
      "execution_count": 3,
      "outputs": [
        {
          "output_type": "execute_result",
          "data": {
            "text/plain": [
              "(6893, 18)"
            ]
          },
          "metadata": {},
          "execution_count": 3
        }
      ]
    },
    {
      "cell_type": "code",
      "metadata": {
        "id": "TFRK0tniLV-G",
        "colab": {
          "base_uri": "https://localhost:8080/",
          "height": 347
        },
        "outputId": "5854d2dd-2977-4457-d07d-f96e68f489cb"
      },
      "source": [
        "# verificar os tipos de dados das variáveis do dataset\n",
        "display(df.dtypes)"
      ],
      "execution_count": 4,
      "outputs": [
        {
          "output_type": "display_data",
          "data": {
            "text/plain": [
              "id                                  int64\n",
              "name                               object\n",
              "host_id                             int64\n",
              "host_name                          object\n",
              "neighbourhood_group               float64\n",
              "neighbourhood                      object\n",
              "latitude                          float64\n",
              "longitude                         float64\n",
              "room_type                          object\n",
              "price                               int64\n",
              "minimum_nights                      int64\n",
              "number_of_reviews                   int64\n",
              "last_review                        object\n",
              "reviews_per_month                 float64\n",
              "calculated_host_listings_count      int64\n",
              "availability_365                    int64\n",
              "number_of_reviews_ltm               int64\n",
              "license                            object\n",
              "dtype: object"
            ]
          },
          "metadata": {}
        }
      ]
    },
    {
      "cell_type": "code",
      "source": [
        "# identificar o volume de dados do DataFrame\n",
        "print(\"O conjunto de dados utilizado nesse projeto possui até sua ultima atualização : {0} linhas e {1} colunas\".format(df.shape[0],df.shape[1]))"
      ],
      "metadata": {
        "colab": {
          "base_uri": "https://localhost:8080/"
        },
        "id": "Kh0jh6TI-_jp",
        "outputId": "b9b5bd5d-7128-42e4-85a0-eec6c4c51bd2"
      },
      "execution_count": 5,
      "outputs": [
        {
          "output_type": "stream",
          "name": "stdout",
          "text": [
            "O conjunto de dados utilizado nesse projeto possui até sua ultima atualização : 6893 linhas e 18 colunas\n"
          ]
        }
      ]
    },
    {
      "cell_type": "markdown",
      "metadata": {
        "id": "yz1urSUGW9iE"
      },
      "source": [
        "### ***Qual a porcentagem de valores ausentes no dataset?*** "
      ]
    },
    {
      "cell_type": "markdown",
      "metadata": {
        "id": "cVK5rITLYJtN"
      },
      "source": [
        "A qualidade de um *dataset* está diretamente relacionada à quantidade de valores ausentes. É importante entender logo no início se esses valores nulos são significativos comparados ao total de entradas."
      ]
    },
    {
      "cell_type": "code",
      "metadata": {
        "id": "plk2FjbCXOqP",
        "colab": {
          "base_uri": "https://localhost:8080/"
        },
        "outputId": "edeb769b-da25-42d3-b24a-4bc2a13d3610"
      },
      "source": [
        "# ordenar em ordem decrescente as variáveis por seus valores ausentes\n",
        "((df.isnull().sum() / df.shape[0]).sort_values(ascending=False) ) * 100"
      ],
      "execution_count": 6,
      "outputs": [
        {
          "output_type": "execute_result",
          "data": {
            "text/plain": [
              "neighbourhood_group               100.000000\n",
              "reviews_per_month                   9.371826\n",
              "last_review                         9.371826\n",
              "license                             6.441317\n",
              "minimum_nights                      0.000000\n",
              "number_of_reviews_ltm               0.000000\n",
              "availability_365                    0.000000\n",
              "calculated_host_listings_count      0.000000\n",
              "number_of_reviews                   0.000000\n",
              "id                                  0.000000\n",
              "name                                0.000000\n",
              "room_type                           0.000000\n",
              "longitude                           0.000000\n",
              "latitude                            0.000000\n",
              "neighbourhood                       0.000000\n",
              "host_name                           0.000000\n",
              "host_id                             0.000000\n",
              "price                               0.000000\n",
              "dtype: float64"
            ]
          },
          "metadata": {},
          "execution_count": 6
        }
      ]
    },
    {
      "cell_type": "markdown",
      "source": [
        "* É possível ver que a coluna `neighbourhood_group` possui 100% dos seus valores faltantes. \n",
        "* As variáveis `reviews_per_month` e `last_review` possuem valores nulos em quase 10% das linhas.\n",
        "* A variável `license` também possui alguns valores nulos, cerca de 7%."
      ],
      "metadata": {
        "id": "XvKNNwve2Udk"
      }
    },
    {
      "cell_type": "markdown",
      "metadata": {
        "id": "iHXvvHIxaoNc"
      },
      "source": [
        "### ***Qual o tipo de distribuição das variáveis?*** \n",
        "\n",
        "Identificando a distribuição das variáveis através da plotagem do histograma."
      ]
    },
    {
      "cell_type": "code",
      "metadata": {
        "id": "q2wWSfeRbmBo",
        "colab": {
          "base_uri": "https://localhost:8080/",
          "height": 607
        },
        "outputId": "8cafae0c-2497-4872-f97d-ddbb8a34df73"
      },
      "source": [
        "# plotar o histograma das variáveis numéricas\n",
        "df.hist(bins=15, figsize=(15,10));"
      ],
      "execution_count": 7,
      "outputs": [
        {
          "output_type": "display_data",
          "data": {
            "text/plain": [
              "<Figure size 1080x720 with 12 Axes>"
            ],
            "image/png": "[encoded data removed]"
          },
          "metadata": {
            "needs_background": "light"
          }
        }
      ]
    },
    {
      "cell_type": "markdown",
      "metadata": {
        "id": "5ctvROBXqdC8"
      },
      "source": [
        "Pela distribuição do histograma, é possível verificar indícios da presença de *outliers*. Olhe por exemplo as variáveis `price`, `minimum_nights` e `calculated_host_listings_count`.\n",
        "\n",
        "Os valores não seguem uma distribuição, e distorcem toda a representação gráfica. Para confirmar, há duas maneiras rápidas que auxiliam a detecção de *outliers*. São elas:\n",
        "\n",
        "* Resumo estatístico por meio do método `describe()`\n",
        "* Plotar `boxplots` para a variável."
      ]
    },
    {
      "cell_type": "markdown",
      "metadata": {
        "id": "8Vs-uwm0rBfx"
      },
      "source": [
        "### ***Resumo estatístico***\n",
        "\n",
        "Através do método describe() é possível verificar o resumo estatístico das variáveis numéricas. O resumo traz as principais informações estatísticas (*count, mean, std, min, max, 25%, 50% e 75%*)"
      ]
    },
    {
      "cell_type": "code",
      "metadata": {
        "colab": {
          "base_uri": "https://localhost:8080/",
          "height": 300
        },
        "id": "75wOBvBArlEN",
        "outputId": "077a339d-0ad2-4fcc-9c0c-3910a3ce07c2"
      },
      "source": [
        "df[['price', 'minimum_nights', 'number_of_reviews', 'reviews_per_month',\n",
        "    'calculated_host_listings_count', 'availability_365']].describe()"
      ],
      "execution_count": 8,
      "outputs": [
        {
          "output_type": "execute_result",
          "data": {
            "text/plain": [
              "             price  minimum_nights  number_of_reviews  reviews_per_month  \\\n",
              "count  6893.000000     6893.000000        6893.000000        6247.000000   \n",
              "mean    218.487306        5.180183          49.746700           1.304610   \n",
              "std     192.576328       38.826489          97.005518           2.332563   \n",
              "min       0.000000        1.000000           0.000000           0.010000   \n",
              "25%     125.000000        2.000000           4.000000           0.290000   \n",
              "50%     180.000000        3.000000          15.000000           0.640000   \n",
              "75%     264.000000        4.000000          46.000000           1.630000   \n",
              "max    7900.000000     1001.000000        1520.000000         104.110000   \n",
              "\n",
              "       calculated_host_listings_count  availability_365  \n",
              "count                     6893.000000       6893.000000  \n",
              "mean                         1.938924         87.637603  \n",
              "std                          2.738912        115.649318  \n",
              "min                          1.000000          0.000000  \n",
              "25%                          1.000000          0.000000  \n",
              "50%                          1.000000         21.000000  \n",
              "75%                          1.000000        152.000000  \n",
              "max                         21.000000        365.000000  "
            ],
            "text/html": [
              "\n",
              "  <div id=\"df-9335b3e5-3446-4fdd-9bcd-f382b1dd28bb\">\n",
              "    <div class=\"colab-df-container\">\n",
              "      <div>\n",
              "<style scoped>\n",
              "    .dataframe tbody tr th:only-of-type {\n",
              "        vertical-align: middle;\n",
              "    }\n",
              "\n",
              "    .dataframe tbody tr th {\n",
              "        vertical-align: top;\n",
              "    }\n",
              "\n",
              "    .dataframe thead th {\n",
              "        text-align: right;\n",
              "    }\n",
              "</style>\n",
              "<table border=\"1\" class=\"dataframe\">\n",
              "  <thead>\n",
              "    <tr style=\"text-align: right;\">\n",
              "      <th></th>\n",
              "      <th>price</th>\n",
              "      <th>minimum_nights</th>\n",
              "      <th>number_of_reviews</th>\n",
              "      <th>reviews_per_month</th>\n",
              "      <th>calculated_host_listings_count</th>\n",
              "      <th>availability_365</th>\n",
              "    </tr>\n",
              "  </thead>\n",
              "  <tbody>\n",
              "    <tr>\n",
              "      <th>count</th>\n",
              "      <td>6893.000000</td>\n",
              "      <td>6893.000000</td>\n",
              "      <td>6893.000000</td>\n",
              "      <td>6247.000000</td>\n",
              "      <td>6893.000000</td>\n",
              "      <td>6893.000000</td>\n",
              "    </tr>\n",
              "    <tr>\n",
              "      <th>mean</th>\n",
              "      <td>218.487306</td>\n",
              "      <td>5.180183</td>\n",
              "      <td>49.746700</td>\n",
              "      <td>1.304610</td>\n",
              "      <td>1.938924</td>\n",
              "      <td>87.637603</td>\n",
              "    </tr>\n",
              "    <tr>\n",
              "      <th>std</th>\n",
              "      <td>192.576328</td>\n",
              "      <td>38.826489</td>\n",
              "      <td>97.005518</td>\n",
              "      <td>2.332563</td>\n",
              "      <td>2.738912</td>\n",
              "      <td>115.649318</td>\n",
              "    </tr>\n",
              "    <tr>\n",
              "      <th>min</th>\n",
              "      <td>0.000000</td>\n",
              "      <td>1.000000</td>\n",
              "      <td>0.000000</td>\n",
              "      <td>0.010000</td>\n",
              "      <td>1.000000</td>\n",
              "      <td>0.000000</td>\n",
              "    </tr>\n",
              "    <tr>\n",
              "      <th>25%</th>\n",
              "      <td>125.000000</td>\n",
              "      <td>2.000000</td>\n",
              "      <td>4.000000</td>\n",
              "      <td>0.290000</td>\n",
              "      <td>1.000000</td>\n",
              "      <td>0.000000</td>\n",
              "    </tr>\n",
              "    <tr>\n",
              "      <th>50%</th>\n",
              "      <td>180.000000</td>\n",
              "      <td>3.000000</td>\n",
              "      <td>15.000000</td>\n",
              "      <td>0.640000</td>\n",
              "      <td>1.000000</td>\n",
              "      <td>21.000000</td>\n",
              "    </tr>\n",
              "    <tr>\n",
              "      <th>75%</th>\n",
              "      <td>264.000000</td>\n",
              "      <td>4.000000</td>\n",
              "      <td>46.000000</td>\n",
              "      <td>1.630000</td>\n",
              "      <td>1.000000</td>\n",
              "      <td>152.000000</td>\n",
              "    </tr>\n",
              "    <tr>\n",
              "      <th>max</th>\n",
              "      <td>7900.000000</td>\n",
              "      <td>1001.000000</td>\n",
              "      <td>1520.000000</td>\n",
              "      <td>104.110000</td>\n",
              "      <td>21.000000</td>\n",
              "      <td>365.000000</td>\n",
              "    </tr>\n",
              "  </tbody>\n",
              "</table>\n",
              "</div>\n",
              "      <button class=\"colab-df-convert\" onclick=\"convertToInteractive('df-9335b3e5-3446-4fdd-9bcd-f382b1dd28bb')\"\n",
              "              title=\"Convert this dataframe to an interactive table.\"\n",
              "              style=\"display:none;\">\n",
              "        \n",
              "  <svg xmlns=\"http://www.w3.org/2000/svg\" height=\"24px\"viewBox=\"0 0 24 24\"\n",
              "       width=\"24px\">\n",
              "    <path d=\"M0 0h24v24H0V0z\" fill=\"none\"/>\n",
              "    <path d=\"M18.56 5.44l.94 2.06.94-2.06 2.06-.94-2.06-.94-.94-2.06-.94 2.06-2.06.94zm-11 1L8.5 8.5l.94-2.06 2.06-.94-2.06-.94L8.5 2.5l-.94 2.06-2.06.94zm10 10l.94 2.06.94-2.06 2.06-.94-2.06-.94-.94-2.06-.94 2.06-2.06.94z\"/><path d=\"M17.41 7.96l-1.37-1.37c-.4-.4-.92-.59-1.43-.59-.52 0-1.04.2-1.43.59L10.3 9.45l-7.72 7.72c-.78.78-.78 2.05 0 2.83L4 21.41c.39.39.9.59 1.41.59.51 0 1.02-.2 1.41-.59l7.78-7.78 2.81-2.81c.8-.78.8-2.07 0-2.86zM5.41 20L4 18.59l7.72-7.72 1.47 1.35L5.41 20z\"/>\n",
              "  </svg>\n",
              "      </button>\n",
              "      \n",
              "  <style>\n",
              "    .colab-df-container {\n",
              "      display:flex;\n",
              "      flex-wrap:wrap;\n",
              "      gap: 12px;\n",
              "    }\n",
              "\n",
              "    .colab-df-convert {\n",
              "      background-color: #E8F0FE;\n",
              "      border: none;\n",
              "      border-radius: 50%;\n",
              "      cursor: pointer;\n",
              "      display: none;\n",
              "      fill: #1967D2;\n",
              "      height: 32px;\n",
              "      padding: 0 0 0 0;\n",
              "      width: 32px;\n",
              "    }\n",
              "\n",
              "    .colab-df-convert:hover {\n",
              "      background-color: #E2EBFA;\n",
              "      box-shadow: 0px 1px 2px rgba(60, 64, 67, 0.3), 0px 1px 3px 1px rgba(60, 64, 67, 0.15);\n",
              "      fill: #174EA6;\n",
              "    }\n",
              "\n",
              "    [theme=dark] .colab-df-convert {\n",
              "      background-color: #3B4455;\n",
              "      fill: #D2E3FC;\n",
              "    }\n",
              "\n",
              "    [theme=dark] .colab-df-convert:hover {\n",
              "      background-color: #434B5C;\n",
              "      box-shadow: 0px 1px 3px 1px rgba(0, 0, 0, 0.15);\n",
              "      filter: drop-shadow(0px 1px 2px rgba(0, 0, 0, 0.3));\n",
              "      fill: #FFFFFF;\n",
              "    }\n",
              "  </style>\n",
              "\n",
              "      <script>\n",
              "        const buttonEl =\n",
              "          document.querySelector('#df-9335b3e5-3446-4fdd-9bcd-f382b1dd28bb button.colab-df-convert');\n",
              "        buttonEl.style.display =\n",
              "          google.colab.kernel.accessAllowed ? 'block' : 'none';\n",
              "\n",
              "        async function convertToInteractive(key) {\n",
              "          const element = document.querySelector('#df-9335b3e5-3446-4fdd-9bcd-f382b1dd28bb');\n",
              "          const dataTable =\n",
              "            await google.colab.kernel.invokeFunction('convertToInteractive',\n",
              "                                                     [key], {});\n",
              "          if (!dataTable) return;\n",
              "\n",
              "          const docLinkHtml = 'Like what you see? Visit the ' +\n",
              "            '<a target=\"_blank\" href=https://colab.research.google.com/notebooks/data_table.ipynb>data table notebook</a>'\n",
              "            + ' to learn more about interactive tables.';\n",
              "          element.innerHTML = '';\n",
              "          dataTable['output_type'] = 'display_data';\n",
              "          await google.colab.output.renderOutput(dataTable, element);\n",
              "          const docLink = document.createElement('div');\n",
              "          docLink.innerHTML = docLinkHtml;\n",
              "          element.appendChild(docLink);\n",
              "        }\n",
              "      </script>\n",
              "    </div>\n",
              "  </div>\n",
              "  "
            ]
          },
          "metadata": {},
          "execution_count": 8
        }
      ]
    },
    {
      "cell_type": "markdown",
      "metadata": {
        "id": "H35YZCRizA_f"
      },
      "source": [
        "Através do resumo acima, podemos observar:\n",
        "\n",
        "\n",
        "*   A variável `price` possui um valor médio em 218 euros e tem 75% do valor abaixo de 264 euros, porém seu valor máximo é 7.900 euros.\n",
        "*   A quantidade mínima de noites (minimum_nights) está em 1.001, ou seja, acima de 365 dias no ano.\n",
        "\n",
        "Para realizarmos o tratamento dos outliers, utilizamos os dados obtidos através do calculo do **IQR Score (Interquartile Range)**:\n",
        "\n",
        "* IQR = Q3 - Q1\n",
        "* Q3 = valor em 75%\n",
        "* Q1 = valor em 25%\n",
        "\n",
        "Limites inferior e superior:\n",
        "Os limites inferior e superior se extendem para fora do boxplot para conseguir representar a variabilidade da distribuição dos dados. Valores que estejam além desses limites podem ser considerados como sendo outliers.\n",
        "\n",
        "* Limite inferior : Q1 - 1.5 * IQR\n",
        "* Limite Superior : Q3 + 1.5 * IQR\n",
        "\n",
        "Caso não existam valores negativos na variavel analisada, não é necessário o calculo do limite inferior desta.\n"
      ]
    },
    {
      "cell_type": "markdown",
      "metadata": {
        "id": "2hcLi1dB8fli"
      },
      "source": [
        "Faremos a seguir os cálculos do IQR, limite inferior e superior para as variáveis `price` e `minimum_nights`"
      ]
    },
    {
      "cell_type": "code",
      "metadata": {
        "colab": {
          "base_uri": "https://localhost:8080/"
        },
        "id": "sGKqNr7287yq",
        "outputId": "d5f21992-09c7-48d1-ba72-3257e4474f7d"
      },
      "source": [
        "# calcular o IQR da variável price\n",
        "q1_price = df.price.quantile(.25)\n",
        "q3_price = df.price.quantile(.75)\n",
        "iqr_price = q3_price - q1_price\n",
        "print('Q1 da variável price: ', q1_price)\n",
        "print('Q3 da variável price: ', q3_price)\n",
        "print('IQR da variável price: ', iqr_price)\n",
        "\n",
        "# calcular  o limite superior de price\n",
        "sup_price = q3_price + 1.5 * iqr_price\n",
        "\n",
        "print('Limite superior da variável price: ', sup_price)\n",
        "\n",
        "# calcular o IQR da variável minimum_nights\n",
        "q1_minimum_nights = df.minimum_nights.quantile(.25)\n",
        "q3_minimum_nights = df.minimum_nights.quantile(.75)\n",
        "iqr_minimum_nights = q3_minimum_nights - q1_minimum_nights\n",
        "print('\\nQ1 da variável minimum_nights: ', q1_minimum_nights)\n",
        "print('Q3 da variável minimum_nights: ', q3_minimum_nights)\n",
        "print('IQR da variável minimum_nights: ', iqr_minimum_nights)\n",
        "\n",
        "# calcular o limite superior de minimum_nights\n",
        "sup_minimum_nights = q3_minimum_nights + 1.5 * iqr_minimum_nights\n",
        "\n",
        "print('Limite superior da variável minimum_nights: ', sup_minimum_nights)"
      ],
      "execution_count": 9,
      "outputs": [
        {
          "output_type": "stream",
          "name": "stdout",
          "text": [
            "Q1 da variável price:  125.0\n",
            "Q3 da variável price:  264.0\n",
            "IQR da variável price:  139.0\n",
            "Limite superior da variável price:  472.5\n",
            "\n",
            "Q1 da variável minimum_nights:  2.0\n",
            "Q3 da variável minimum_nights:  4.0\n",
            "IQR da variável minimum_nights:  2.0\n",
            "Limite superior da variável minimum_nights:  7.0\n"
          ]
        }
      ]
    },
    {
      "cell_type": "markdown",
      "metadata": {
        "id": "9jBZu7bo3nuu"
      },
      "source": [
        "Após a obtenção dos valores, vamos plotar o boxplot para visualização dos outliers.\n",
        "\n",
        "**Boxplot para price**"
      ]
    },
    {
      "cell_type": "code",
      "metadata": {
        "colab": {
          "base_uri": "https://localhost:8080/",
          "height": 280
        },
        "id": "LBkOEUEC3ryD",
        "outputId": "e18f3d97-e476-475b-d05e-aec1a12ab035"
      },
      "source": [
        "# price\n",
        "df.price.plot(kind='box', vert=False, figsize=(15, 3),)\n",
        "plt.show()\n",
        "\n",
        "# ver quantidade de valores acima de 472.5 para price\n",
        "print(\"\\nVariável price\")\n",
        "print(\"São {} entradas com valores acima de 472.5\".format(len(df[df.price > 472.5])))\n",
        "print(\"Este valor representa {:.4f}% do total de registros\".format((len(df[df.price > 472.5]) / df.shape[0])*100))\n"
      ],
      "execution_count": 10,
      "outputs": [
        {
          "output_type": "display_data",
          "data": {
            "text/plain": [
              "<Figure size 1080x216 with 1 Axes>"
            ],
            "image/png": "[encoded data removed]"
          },
          "metadata": {
            "needs_background": "light"
          }
        },
        {
          "output_type": "stream",
          "name": "stdout",
          "text": [
            "\n",
            "Variável price\n",
            "São 350 entradas com valores acima de 472.5\n",
            "Este valor representa 5.0776% do total de registros\n"
          ]
        }
      ]
    },
    {
      "cell_type": "markdown",
      "metadata": {
        "id": "xmlcrvBjA2Dg"
      },
      "source": [
        "**Boxplot para minimum_nights**"
      ]
    },
    {
      "cell_type": "code",
      "metadata": {
        "colab": {
          "base_uri": "https://localhost:8080/",
          "height": 280
        },
        "id": "j9Px0rV4BB2S",
        "outputId": "200d7adf-4dd0-4ed2-cb8b-809a59fae95a"
      },
      "source": [
        "# minimum_nights\n",
        "df.minimum_nights.plot(kind='box', vert=False, figsize=(15, 3),)\n",
        "plt.show()\n",
        "\n",
        "# ver quantidade de valores acima de 7 para minimum_nights\n",
        "print(\"\\nVariável minimum_nights\")\n",
        "print(\"São {} entradas com valores acima de 7\".format(len(df[df.minimum_nights > 7])))\n",
        "print(\"Este valor representa {:.4f}% do total de registros\".format((len(df[df.minimum_nights > 7]) / df.shape[0])*100))"
      ],
      "execution_count": 11,
      "outputs": [
        {
          "output_type": "display_data",
          "data": {
            "text/plain": [
              "<Figure size 1080x216 with 1 Axes>"
            ],
            "image/png": "[encoded data removed]"
          },
          "metadata": {
            "needs_background": "light"
          }
        },
        {
          "output_type": "stream",
          "name": "stdout",
          "text": [
            "\n",
            "Variável minimum_nights\n",
            "São 266 entradas com valores acima de 7\n",
            "Este valor representa 3.8590% do total de registros\n"
          ]
        }
      ]
    },
    {
      "cell_type": "markdown",
      "metadata": {
        "id": "GsPyskS6yGX1"
      },
      "source": [
        "### ***Histogramas sem outliers***\n",
        "\n",
        "Identificado os *outliers* nas variáveis `price` e `minimum_nights`, a próxima etapa será limpar o *DataFrame* delas e plotar novamente o histograma."
      ]
    },
    {
      "cell_type": "code",
      "metadata": {
        "colab": {
          "base_uri": "https://localhost:8080/",
          "height": 607
        },
        "id": "g0J9SQNayLao",
        "outputId": "bf4aa3f9-a3b9-49db-fc80-0f3f84a6c8d6"
      },
      "source": [
        "# remover os *outliers* em um novo DataFrame\n",
        "df_clean = df.copy()\n",
        "df_clean.drop(df_clean[df_clean.price > 472.5].index, axis=0, inplace=True)\n",
        "df_clean.drop(df_clean[df_clean.minimum_nights > 7].index, axis=0, inplace=True)\n",
        "\n",
        "# remover `neighbourhood_group`, pois está vazio\n",
        "df_clean.drop('neighbourhood_group', axis=1, inplace=True)\n",
        "\n",
        "# plotar o histograma para as variáveis numéricas\n",
        "df_clean.hist(bins=15, figsize=(15,10));"
      ],
      "execution_count": 5,
      "outputs": [
        {
          "output_type": "display_data",
          "data": {
            "text/plain": [
              "<Figure size 1080x720 with 12 Axes>"
            ],
            "image/png": "[encoded data removed]"
          },
          "metadata": {
            "needs_background": "light"
          }
        }
      ]
    },
    {
      "cell_type": "code",
      "metadata": {
        "colab": {
          "base_uri": "https://localhost:8080/",
          "height": 300
        },
        "id": "TNhNuReyc2Bv",
        "outputId": "5395e7b1-da0c-4aff-b493-d564bfab7ba9"
      },
      "source": [
        "df_clean[['price', 'minimum_nights', 'number_of_reviews', 'reviews_per_month',\n",
        "    'calculated_host_listings_count', 'availability_365']].describe()"
      ],
      "execution_count": 13,
      "outputs": [
        {
          "output_type": "execute_result",
          "data": {
            "text/plain": [
              "             price  minimum_nights  number_of_reviews  reviews_per_month  \\\n",
              "count  6289.000000     6289.000000        6289.000000        5782.000000   \n",
              "mean    193.521705        2.756718          52.460805           1.337866   \n",
              "std      92.618454        1.451384          99.980738           2.387113   \n",
              "min       0.000000        1.000000           0.000000           0.010000   \n",
              "25%     122.000000        2.000000           4.000000           0.300000   \n",
              "50%     175.000000        2.000000          16.000000           0.660000   \n",
              "75%     250.000000        3.000000          50.000000           1.710000   \n",
              "max     471.000000        7.000000        1520.000000         104.110000   \n",
              "\n",
              "       calculated_host_listings_count  availability_365  \n",
              "count                     6289.000000       6289.000000  \n",
              "mean                         1.930196         83.754333  \n",
              "std                          2.759968        113.329556  \n",
              "min                          1.000000          0.000000  \n",
              "25%                          1.000000          0.000000  \n",
              "50%                          1.000000         17.000000  \n",
              "75%                          1.000000        142.000000  \n",
              "max                         21.000000        365.000000  "
            ],
            "text/html": [
              "\n",
              "  <div id=\"df-e4971fce-24ad-4e71-9f8e-110051775bd1\">\n",
              "    <div class=\"colab-df-container\">\n",
              "      <div>\n",
              "<style scoped>\n",
              "    .dataframe tbody tr th:only-of-type {\n",
              "        vertical-align: middle;\n",
              "    }\n",
              "\n",
              "    .dataframe tbody tr th {\n",
              "        vertical-align: top;\n",
              "    }\n",
              "\n",
              "    .dataframe thead th {\n",
              "        text-align: right;\n",
              "    }\n",
              "</style>\n",
              "<table border=\"1\" class=\"dataframe\">\n",
              "  <thead>\n",
              "    <tr style=\"text-align: right;\">\n",
              "      <th></th>\n",
              "      <th>price</th>\n",
              "      <th>minimum_nights</th>\n",
              "      <th>number_of_reviews</th>\n",
              "      <th>reviews_per_month</th>\n",
              "      <th>calculated_host_listings_count</th>\n",
              "      <th>availability_365</th>\n",
              "    </tr>\n",
              "  </thead>\n",
              "  <tbody>\n",
              "    <tr>\n",
              "      <th>count</th>\n",
              "      <td>6289.000000</td>\n",
              "      <td>6289.000000</td>\n",
              "      <td>6289.000000</td>\n",
              "      <td>5782.000000</td>\n",
              "      <td>6289.000000</td>\n",
              "      <td>6289.000000</td>\n",
              "    </tr>\n",
              "    <tr>\n",
              "      <th>mean</th>\n",
              "      <td>193.521705</td>\n",
              "      <td>2.756718</td>\n",
              "      <td>52.460805</td>\n",
              "      <td>1.337866</td>\n",
              "      <td>1.930196</td>\n",
              "      <td>83.754333</td>\n",
              "    </tr>\n",
              "    <tr>\n",
              "      <th>std</th>\n",
              "      <td>92.618454</td>\n",
              "      <td>1.451384</td>\n",
              "      <td>99.980738</td>\n",
              "      <td>2.387113</td>\n",
              "      <td>2.759968</td>\n",
              "      <td>113.329556</td>\n",
              "    </tr>\n",
              "    <tr>\n",
              "      <th>min</th>\n",
              "      <td>0.000000</td>\n",
              "      <td>1.000000</td>\n",
              "      <td>0.000000</td>\n",
              "      <td>0.010000</td>\n",
              "      <td>1.000000</td>\n",
              "      <td>0.000000</td>\n",
              "    </tr>\n",
              "    <tr>\n",
              "      <th>25%</th>\n",
              "      <td>122.000000</td>\n",
              "      <td>2.000000</td>\n",
              "      <td>4.000000</td>\n",
              "      <td>0.300000</td>\n",
              "      <td>1.000000</td>\n",
              "      <td>0.000000</td>\n",
              "    </tr>\n",
              "    <tr>\n",
              "      <th>50%</th>\n",
              "      <td>175.000000</td>\n",
              "      <td>2.000000</td>\n",
              "      <td>16.000000</td>\n",
              "      <td>0.660000</td>\n",
              "      <td>1.000000</td>\n",
              "      <td>17.000000</td>\n",
              "    </tr>\n",
              "    <tr>\n",
              "      <th>75%</th>\n",
              "      <td>250.000000</td>\n",
              "      <td>3.000000</td>\n",
              "      <td>50.000000</td>\n",
              "      <td>1.710000</td>\n",
              "      <td>1.000000</td>\n",
              "      <td>142.000000</td>\n",
              "    </tr>\n",
              "    <tr>\n",
              "      <th>max</th>\n",
              "      <td>471.000000</td>\n",
              "      <td>7.000000</td>\n",
              "      <td>1520.000000</td>\n",
              "      <td>104.110000</td>\n",
              "      <td>21.000000</td>\n",
              "      <td>365.000000</td>\n",
              "    </tr>\n",
              "  </tbody>\n",
              "</table>\n",
              "</div>\n",
              "      <button class=\"colab-df-convert\" onclick=\"convertToInteractive('df-e4971fce-24ad-4e71-9f8e-110051775bd1')\"\n",
              "              title=\"Convert this dataframe to an interactive table.\"\n",
              "              style=\"display:none;\">\n",
              "        \n",
              "  <svg xmlns=\"http://www.w3.org/2000/svg\" height=\"24px\"viewBox=\"0 0 24 24\"\n",
              "       width=\"24px\">\n",
              "    <path d=\"M0 0h24v24H0V0z\" fill=\"none\"/>\n",
              "    <path d=\"M18.56 5.44l.94 2.06.94-2.06 2.06-.94-2.06-.94-.94-2.06-.94 2.06-2.06.94zm-11 1L8.5 8.5l.94-2.06 2.06-.94-2.06-.94L8.5 2.5l-.94 2.06-2.06.94zm10 10l.94 2.06.94-2.06 2.06-.94-2.06-.94-.94-2.06-.94 2.06-2.06.94z\"/><path d=\"M17.41 7.96l-1.37-1.37c-.4-.4-.92-.59-1.43-.59-.52 0-1.04.2-1.43.59L10.3 9.45l-7.72 7.72c-.78.78-.78 2.05 0 2.83L4 21.41c.39.39.9.59 1.41.59.51 0 1.02-.2 1.41-.59l7.78-7.78 2.81-2.81c.8-.78.8-2.07 0-2.86zM5.41 20L4 18.59l7.72-7.72 1.47 1.35L5.41 20z\"/>\n",
              "  </svg>\n",
              "      </button>\n",
              "      \n",
              "  <style>\n",
              "    .colab-df-container {\n",
              "      display:flex;\n",
              "      flex-wrap:wrap;\n",
              "      gap: 12px;\n",
              "    }\n",
              "\n",
              "    .colab-df-convert {\n",
              "      background-color: #E8F0FE;\n",
              "      border: none;\n",
              "      border-radius: 50%;\n",
              "      cursor: pointer;\n",
              "      display: none;\n",
              "      fill: #1967D2;\n",
              "      height: 32px;\n",
              "      padding: 0 0 0 0;\n",
              "      width: 32px;\n",
              "    }\n",
              "\n",
              "    .colab-df-convert:hover {\n",
              "      background-color: #E2EBFA;\n",
              "      box-shadow: 0px 1px 2px rgba(60, 64, 67, 0.3), 0px 1px 3px 1px rgba(60, 64, 67, 0.15);\n",
              "      fill: #174EA6;\n",
              "    }\n",
              "\n",
              "    [theme=dark] .colab-df-convert {\n",
              "      background-color: #3B4455;\n",
              "      fill: #D2E3FC;\n",
              "    }\n",
              "\n",
              "    [theme=dark] .colab-df-convert:hover {\n",
              "      background-color: #434B5C;\n",
              "      box-shadow: 0px 1px 3px 1px rgba(0, 0, 0, 0.15);\n",
              "      filter: drop-shadow(0px 1px 2px rgba(0, 0, 0, 0.3));\n",
              "      fill: #FFFFFF;\n",
              "    }\n",
              "  </style>\n",
              "\n",
              "      <script>\n",
              "        const buttonEl =\n",
              "          document.querySelector('#df-e4971fce-24ad-4e71-9f8e-110051775bd1 button.colab-df-convert');\n",
              "        buttonEl.style.display =\n",
              "          google.colab.kernel.accessAllowed ? 'block' : 'none';\n",
              "\n",
              "        async function convertToInteractive(key) {\n",
              "          const element = document.querySelector('#df-e4971fce-24ad-4e71-9f8e-110051775bd1');\n",
              "          const dataTable =\n",
              "            await google.colab.kernel.invokeFunction('convertToInteractive',\n",
              "                                                     [key], {});\n",
              "          if (!dataTable) return;\n",
              "\n",
              "          const docLinkHtml = 'Like what you see? Visit the ' +\n",
              "            '<a target=\"_blank\" href=https://colab.research.google.com/notebooks/data_table.ipynb>data table notebook</a>'\n",
              "            + ' to learn more about interactive tables.';\n",
              "          element.innerHTML = '';\n",
              "          dataTable['output_type'] = 'display_data';\n",
              "          await google.colab.output.renderOutput(dataTable, element);\n",
              "          const docLink = document.createElement('div');\n",
              "          docLink.innerHTML = docLinkHtml;\n",
              "          element.appendChild(docLink);\n",
              "        }\n",
              "      </script>\n",
              "    </div>\n",
              "  </div>\n",
              "  "
            ]
          },
          "metadata": {},
          "execution_count": 13
        }
      ]
    },
    {
      "cell_type": "markdown",
      "metadata": {
        "id": "7x4aw1j5wNmn"
      },
      "source": [
        "### ***Qual a média dos preços de aluguel?***"
      ]
    },
    {
      "cell_type": "markdown",
      "metadata": {
        "id": "c4HzQEAFhoFy"
      },
      "source": [
        "O valor da média dos preços de aluguel é obtida através da variável `price` juntamente com o método `mean()`."
      ]
    },
    {
      "cell_type": "code",
      "metadata": {
        "colab": {
          "base_uri": "https://localhost:8080/"
        },
        "id": "G2_56MD2mcJs",
        "outputId": "0da27ba8-e68a-4d4d-8dd0-f435928e18b7"
      },
      "source": [
        "# Calculando o valor médio da coluna `price``\n",
        "print(\"O valor do preço médio dos aluguéis é {:.2f} €\".format(df_clean.price.mean()))"
      ],
      "execution_count": 14,
      "outputs": [
        {
          "output_type": "stream",
          "name": "stdout",
          "text": [
            "O valor do preço médio dos aluguéis é 193.52 €\n"
          ]
        }
      ]
    },
    {
      "cell_type": "markdown",
      "metadata": {
        "id": "IXn2oIo5qx-w"
      },
      "source": [
        "### ***Qual a correlação existente entre as variáveis?***\n",
        "\n",
        "Correlação significa que existe uma relação entre duas coisas. No nosso contexto, estamos buscando relação ou semelhança entre duas variáveis.\n",
        "\n",
        "Utilizando o Coeficiente de Correlação de Pearson\n",
        "\n",
        "*   r= 1 Significa uma correlação perfeita e positiva entre as duas variáveis.\n",
        "*   Uma correlação negativa e perfeita entre as duas variáveis significa que, se uma aumenta, a outra sempre diminui retorna um r = -1.\n",
        "*   r= 0 Significa que as duas variáveis não dependem linearmente uma da outra.\n",
        "\n",
        "Essa relação pode ser medida, e é função do coeficiente de correlação estabelecer qual a intensidade dela. Para identificar as correlações existentes entre as variáveis de interesse, vou:\n",
        "\n",
        "* Criar uma matriz de correlação\n",
        "* Gerar um *heatmap* a partir dessa matriz, usando a biblioteca `seaborn`"
      ]
    },
    {
      "cell_type": "code",
      "metadata": {
        "id": "x2ayzBajqxyd",
        "colab": {
          "base_uri": "https://localhost:8080/",
          "height": 238
        },
        "outputId": "6b5a3df7-8133-42ec-b9a5-1cfcff209d12"
      },
      "source": [
        "# criar uma matriz de correlação\n",
        "corr = df_clean[['price', 'minimum_nights', 'number_of_reviews', 'reviews_per_month',\n",
        "    'calculated_host_listings_count', 'availability_365']].corr()\n",
        "\n",
        "# mostrar a matriz de correlação\n",
        "display(corr)\n"
      ],
      "execution_count": 15,
      "outputs": [
        {
          "output_type": "display_data",
          "data": {
            "text/plain": [
              "                                   price  minimum_nights  number_of_reviews  \\\n",
              "price                           1.000000        0.058598          -0.209055   \n",
              "minimum_nights                  0.058598        1.000000          -0.191433   \n",
              "number_of_reviews              -0.209055       -0.191433           1.000000   \n",
              "reviews_per_month              -0.075404       -0.220979           0.639661   \n",
              "calculated_host_listings_count  0.036947       -0.136524           0.026829   \n",
              "availability_365                0.131157       -0.168356           0.226174   \n",
              "\n",
              "                                reviews_per_month  \\\n",
              "price                                   -0.075404   \n",
              "minimum_nights                          -0.220979   \n",
              "number_of_reviews                        0.639661   \n",
              "reviews_per_month                        1.000000   \n",
              "calculated_host_listings_count           0.099329   \n",
              "availability_365                         0.268093   \n",
              "\n",
              "                                calculated_host_listings_count  \\\n",
              "price                                                 0.036947   \n",
              "minimum_nights                                       -0.136524   \n",
              "number_of_reviews                                     0.026829   \n",
              "reviews_per_month                                     0.099329   \n",
              "calculated_host_listings_count                        1.000000   \n",
              "availability_365                                      0.313327   \n",
              "\n",
              "                                availability_365  \n",
              "price                                   0.131157  \n",
              "minimum_nights                         -0.168356  \n",
              "number_of_reviews                       0.226174  \n",
              "reviews_per_month                       0.268093  \n",
              "calculated_host_listings_count          0.313327  \n",
              "availability_365                        1.000000  "
            ],
            "text/html": [
              "\n",
              "  <div id=\"df-164becd3-8032-4ecf-b20c-cb2085594c7d\">\n",
              "    <div class=\"colab-df-container\">\n",
              "      <div>\n",
              "<style scoped>\n",
              "    .dataframe tbody tr th:only-of-type {\n",
              "        vertical-align: middle;\n",
              "    }\n",
              "\n",
              "    .dataframe tbody tr th {\n",
              "        vertical-align: top;\n",
              "    }\n",
              "\n",
              "    .dataframe thead th {\n",
              "        text-align: right;\n",
              "    }\n",
              "</style>\n",
              "<table border=\"1\" class=\"dataframe\">\n",
              "  <thead>\n",
              "    <tr style=\"text-align: right;\">\n",
              "      <th></th>\n",
              "      <th>price</th>\n",
              "      <th>minimum_nights</th>\n",
              "      <th>number_of_reviews</th>\n",
              "      <th>reviews_per_month</th>\n",
              "      <th>calculated_host_listings_count</th>\n",
              "      <th>availability_365</th>\n",
              "    </tr>\n",
              "  </thead>\n",
              "  <tbody>\n",
              "    <tr>\n",
              "      <th>price</th>\n",
              "      <td>1.000000</td>\n",
              "      <td>0.058598</td>\n",
              "      <td>-0.209055</td>\n",
              "      <td>-0.075404</td>\n",
              "      <td>0.036947</td>\n",
              "      <td>0.131157</td>\n",
              "    </tr>\n",
              "    <tr>\n",
              "      <th>minimum_nights</th>\n",
              "      <td>0.058598</td>\n",
              "      <td>1.000000</td>\n",
              "      <td>-0.191433</td>\n",
              "      <td>-0.220979</td>\n",
              "      <td>-0.136524</td>\n",
              "      <td>-0.168356</td>\n",
              "    </tr>\n",
              "    <tr>\n",
              "      <th>number_of_reviews</th>\n",
              "      <td>-0.209055</td>\n",
              "      <td>-0.191433</td>\n",
              "      <td>1.000000</td>\n",
              "      <td>0.639661</td>\n",
              "      <td>0.026829</td>\n",
              "      <td>0.226174</td>\n",
              "    </tr>\n",
              "    <tr>\n",
              "      <th>reviews_per_month</th>\n",
              "      <td>-0.075404</td>\n",
              "      <td>-0.220979</td>\n",
              "      <td>0.639661</td>\n",
              "      <td>1.000000</td>\n",
              "      <td>0.099329</td>\n",
              "      <td>0.268093</td>\n",
              "    </tr>\n",
              "    <tr>\n",
              "      <th>calculated_host_listings_count</th>\n",
              "      <td>0.036947</td>\n",
              "      <td>-0.136524</td>\n",
              "      <td>0.026829</td>\n",
              "      <td>0.099329</td>\n",
              "      <td>1.000000</td>\n",
              "      <td>0.313327</td>\n",
              "    </tr>\n",
              "    <tr>\n",
              "      <th>availability_365</th>\n",
              "      <td>0.131157</td>\n",
              "      <td>-0.168356</td>\n",
              "      <td>0.226174</td>\n",
              "      <td>0.268093</td>\n",
              "      <td>0.313327</td>\n",
              "      <td>1.000000</td>\n",
              "    </tr>\n",
              "  </tbody>\n",
              "</table>\n",
              "</div>\n",
              "      <button class=\"colab-df-convert\" onclick=\"convertToInteractive('df-164becd3-8032-4ecf-b20c-cb2085594c7d')\"\n",
              "              title=\"Convert this dataframe to an interactive table.\"\n",
              "              style=\"display:none;\">\n",
              "        \n",
              "  <svg xmlns=\"http://www.w3.org/2000/svg\" height=\"24px\"viewBox=\"0 0 24 24\"\n",
              "       width=\"24px\">\n",
              "    <path d=\"M0 0h24v24H0V0z\" fill=\"none\"/>\n",
              "    <path d=\"M18.56 5.44l.94 2.06.94-2.06 2.06-.94-2.06-.94-.94-2.06-.94 2.06-2.06.94zm-11 1L8.5 8.5l.94-2.06 2.06-.94-2.06-.94L8.5 2.5l-.94 2.06-2.06.94zm10 10l.94 2.06.94-2.06 2.06-.94-2.06-.94-.94-2.06-.94 2.06-2.06.94z\"/><path d=\"M17.41 7.96l-1.37-1.37c-.4-.4-.92-.59-1.43-.59-.52 0-1.04.2-1.43.59L10.3 9.45l-7.72 7.72c-.78.78-.78 2.05 0 2.83L4 21.41c.39.39.9.59 1.41.59.51 0 1.02-.2 1.41-.59l7.78-7.78 2.81-2.81c.8-.78.8-2.07 0-2.86zM5.41 20L4 18.59l7.72-7.72 1.47 1.35L5.41 20z\"/>\n",
              "  </svg>\n",
              "      </button>\n",
              "      \n",
              "  <style>\n",
              "    .colab-df-container {\n",
              "      display:flex;\n",
              "      flex-wrap:wrap;\n",
              "      gap: 12px;\n",
              "    }\n",
              "\n",
              "    .colab-df-convert {\n",
              "      background-color: #E8F0FE;\n",
              "      border: none;\n",
              "      border-radius: 50%;\n",
              "      cursor: pointer;\n",
              "      display: none;\n",
              "      fill: #1967D2;\n",
              "      height: 32px;\n",
              "      padding: 0 0 0 0;\n",
              "      width: 32px;\n",
              "    }\n",
              "\n",
              "    .colab-df-convert:hover {\n",
              "      background-color: #E2EBFA;\n",
              "      box-shadow: 0px 1px 2px rgba(60, 64, 67, 0.3), 0px 1px 3px 1px rgba(60, 64, 67, 0.15);\n",
              "      fill: #174EA6;\n",
              "    }\n",
              "\n",
              "    [theme=dark] .colab-df-convert {\n",
              "      background-color: #3B4455;\n",
              "      fill: #D2E3FC;\n",
              "    }\n",
              "\n",
              "    [theme=dark] .colab-df-convert:hover {\n",
              "      background-color: #434B5C;\n",
              "      box-shadow: 0px 1px 3px 1px rgba(0, 0, 0, 0.15);\n",
              "      filter: drop-shadow(0px 1px 2px rgba(0, 0, 0, 0.3));\n",
              "      fill: #FFFFFF;\n",
              "    }\n",
              "  </style>\n",
              "\n",
              "      <script>\n",
              "        const buttonEl =\n",
              "          document.querySelector('#df-164becd3-8032-4ecf-b20c-cb2085594c7d button.colab-df-convert');\n",
              "        buttonEl.style.display =\n",
              "          google.colab.kernel.accessAllowed ? 'block' : 'none';\n",
              "\n",
              "        async function convertToInteractive(key) {\n",
              "          const element = document.querySelector('#df-164becd3-8032-4ecf-b20c-cb2085594c7d');\n",
              "          const dataTable =\n",
              "            await google.colab.kernel.invokeFunction('convertToInteractive',\n",
              "                                                     [key], {});\n",
              "          if (!dataTable) return;\n",
              "\n",
              "          const docLinkHtml = 'Like what you see? Visit the ' +\n",
              "            '<a target=\"_blank\" href=https://colab.research.google.com/notebooks/data_table.ipynb>data table notebook</a>'\n",
              "            + ' to learn more about interactive tables.';\n",
              "          element.innerHTML = '';\n",
              "          dataTable['output_type'] = 'display_data';\n",
              "          await google.colab.output.renderOutput(dataTable, element);\n",
              "          const docLink = document.createElement('div');\n",
              "          docLink.innerHTML = docLinkHtml;\n",
              "          element.appendChild(docLink);\n",
              "        }\n",
              "      </script>\n",
              "    </div>\n",
              "  </div>\n",
              "  "
            ]
          },
          "metadata": {}
        }
      ]
    },
    {
      "cell_type": "code",
      "metadata": {
        "id": "91UujDr6ueqE",
        "colab": {
          "base_uri": "https://localhost:8080/",
          "height": 411
        },
        "outputId": "b53e2548-f053-4c41-c6b5-7260db1819f5"
      },
      "source": [
        "# plotar um heatmap a partir das correlações\n",
        "sns.heatmap(corr, cmap='RdBu', fmt='.2f', square=True, linecolor='white', annot=True);"
      ],
      "execution_count": 16,
      "outputs": [
        {
          "output_type": "display_data",
          "data": {
            "text/plain": [
              "<Figure size 432x288 with 2 Axes>"
            ],
            "image/png": "[encoded data removed]"
          },
          "metadata": {
            "needs_background": "light"
          }
        }
      ]
    },
    {
      "cell_type": "markdown",
      "metadata": {
        "id": "7b6RMWpuHKN-"
      },
      "source": [
        "### ***Qual o tipo de imóvel mais alugado no Airbnb?***"
      ]
    },
    {
      "cell_type": "markdown",
      "metadata": {
        "id": "IorXFk7O6hCg"
      },
      "source": [
        "Essa informação é obtida utilizando o método `value_counts()`, que verifica do número de ocorrencias da coluna `room_type` que informa o tipo de locação."
      ]
    },
    {
      "cell_type": "code",
      "metadata": {
        "id": "ueLPNWvPHgfB",
        "colab": {
          "base_uri": "https://localhost:8080/",
          "height": 175
        },
        "outputId": "8c8b40ee-c8c4-4988-a9ba-fe2b720b5967"
      },
      "source": [
        "# mostrar a quantidade de cada tipo de imóvel disponível\n",
        "dados = df_clean.room_type.value_counts()\n",
        "display(pd.DataFrame(data = dados.rename(\"Qtd por Tipo Imovel\")))"
      ],
      "execution_count": 17,
      "outputs": [
        {
          "output_type": "display_data",
          "data": {
            "text/plain": [
              "                 Qtd por Tipo Imovel\n",
              "Entire home/apt                 4398\n",
              "Private room                    1782\n",
              "Hotel room                        73\n",
              "Shared room                       36"
            ],
            "text/html": [
              "\n",
              "  <div id=\"df-f09888f4-a6a4-4744-84c2-5818738fb5f6\">\n",
              "    <div class=\"colab-df-container\">\n",
              "      <div>\n",
              "<style scoped>\n",
              "    .dataframe tbody tr th:only-of-type {\n",
              "        vertical-align: middle;\n",
              "    }\n",
              "\n",
              "    .dataframe tbody tr th {\n",
              "        vertical-align: top;\n",
              "    }\n",
              "\n",
              "    .dataframe thead th {\n",
              "        text-align: right;\n",
              "    }\n",
              "</style>\n",
              "<table border=\"1\" class=\"dataframe\">\n",
              "  <thead>\n",
              "    <tr style=\"text-align: right;\">\n",
              "      <th></th>\n",
              "      <th>Qtd por Tipo Imovel</th>\n",
              "    </tr>\n",
              "  </thead>\n",
              "  <tbody>\n",
              "    <tr>\n",
              "      <th>Entire home/apt</th>\n",
              "      <td>4398</td>\n",
              "    </tr>\n",
              "    <tr>\n",
              "      <th>Private room</th>\n",
              "      <td>1782</td>\n",
              "    </tr>\n",
              "    <tr>\n",
              "      <th>Hotel room</th>\n",
              "      <td>73</td>\n",
              "    </tr>\n",
              "    <tr>\n",
              "      <th>Shared room</th>\n",
              "      <td>36</td>\n",
              "    </tr>\n",
              "  </tbody>\n",
              "</table>\n",
              "</div>\n",
              "      <button class=\"colab-df-convert\" onclick=\"convertToInteractive('df-f09888f4-a6a4-4744-84c2-5818738fb5f6')\"\n",
              "              title=\"Convert this dataframe to an interactive table.\"\n",
              "              style=\"display:none;\">\n",
              "        \n",
              "  <svg xmlns=\"http://www.w3.org/2000/svg\" height=\"24px\"viewBox=\"0 0 24 24\"\n",
              "       width=\"24px\">\n",
              "    <path d=\"M0 0h24v24H0V0z\" fill=\"none\"/>\n",
              "    <path d=\"M18.56 5.44l.94 2.06.94-2.06 2.06-.94-2.06-.94-.94-2.06-.94 2.06-2.06.94zm-11 1L8.5 8.5l.94-2.06 2.06-.94-2.06-.94L8.5 2.5l-.94 2.06-2.06.94zm10 10l.94 2.06.94-2.06 2.06-.94-2.06-.94-.94-2.06-.94 2.06-2.06.94z\"/><path d=\"M17.41 7.96l-1.37-1.37c-.4-.4-.92-.59-1.43-.59-.52 0-1.04.2-1.43.59L10.3 9.45l-7.72 7.72c-.78.78-.78 2.05 0 2.83L4 21.41c.39.39.9.59 1.41.59.51 0 1.02-.2 1.41-.59l7.78-7.78 2.81-2.81c.8-.78.8-2.07 0-2.86zM5.41 20L4 18.59l7.72-7.72 1.47 1.35L5.41 20z\"/>\n",
              "  </svg>\n",
              "      </button>\n",
              "      \n",
              "  <style>\n",
              "    .colab-df-container {\n",
              "      display:flex;\n",
              "      flex-wrap:wrap;\n",
              "      gap: 12px;\n",
              "    }\n",
              "\n",
              "    .colab-df-convert {\n",
              "      background-color: #E8F0FE;\n",
              "      border: none;\n",
              "      border-radius: 50%;\n",
              "      cursor: pointer;\n",
              "      display: none;\n",
              "      fill: #1967D2;\n",
              "      height: 32px;\n",
              "      padding: 0 0 0 0;\n",
              "      width: 32px;\n",
              "    }\n",
              "\n",
              "    .colab-df-convert:hover {\n",
              "      background-color: #E2EBFA;\n",
              "      box-shadow: 0px 1px 2px rgba(60, 64, 67, 0.3), 0px 1px 3px 1px rgba(60, 64, 67, 0.15);\n",
              "      fill: #174EA6;\n",
              "    }\n",
              "\n",
              "    [theme=dark] .colab-df-convert {\n",
              "      background-color: #3B4455;\n",
              "      fill: #D2E3FC;\n",
              "    }\n",
              "\n",
              "    [theme=dark] .colab-df-convert:hover {\n",
              "      background-color: #434B5C;\n",
              "      box-shadow: 0px 1px 3px 1px rgba(0, 0, 0, 0.15);\n",
              "      filter: drop-shadow(0px 1px 2px rgba(0, 0, 0, 0.3));\n",
              "      fill: #FFFFFF;\n",
              "    }\n",
              "  </style>\n",
              "\n",
              "      <script>\n",
              "        const buttonEl =\n",
              "          document.querySelector('#df-f09888f4-a6a4-4744-84c2-5818738fb5f6 button.colab-df-convert');\n",
              "        buttonEl.style.display =\n",
              "          google.colab.kernel.accessAllowed ? 'block' : 'none';\n",
              "\n",
              "        async function convertToInteractive(key) {\n",
              "          const element = document.querySelector('#df-f09888f4-a6a4-4744-84c2-5818738fb5f6');\n",
              "          const dataTable =\n",
              "            await google.colab.kernel.invokeFunction('convertToInteractive',\n",
              "                                                     [key], {});\n",
              "          if (!dataTable) return;\n",
              "\n",
              "          const docLinkHtml = 'Like what you see? Visit the ' +\n",
              "            '<a target=\"_blank\" href=https://colab.research.google.com/notebooks/data_table.ipynb>data table notebook</a>'\n",
              "            + ' to learn more about interactive tables.';\n",
              "          element.innerHTML = '';\n",
              "          dataTable['output_type'] = 'display_data';\n",
              "          await google.colab.output.renderOutput(dataTable, element);\n",
              "          const docLink = document.createElement('div');\n",
              "          docLink.innerHTML = docLinkHtml;\n",
              "          element.appendChild(docLink);\n",
              "        }\n",
              "      </script>\n",
              "    </div>\n",
              "  </div>\n",
              "  "
            ]
          },
          "metadata": {}
        }
      ]
    },
    {
      "cell_type": "code",
      "metadata": {
        "id": "EvwoO-XAHhIm",
        "colab": {
          "base_uri": "https://localhost:8080/",
          "height": 175
        },
        "outputId": "81d7d287-eafd-4f39-c140-94131812895d"
      },
      "source": [
        "# mostrar a porcentagem de cada tipo de imóvel disponível\n",
        "dados = (df_clean.room_type.value_counts() /df_clean.shape[0]) * 100\n",
        "display(pd.DataFrame(data = dados.rename(\"% Tipo Imovel\")))"
      ],
      "execution_count": 18,
      "outputs": [
        {
          "output_type": "display_data",
          "data": {
            "text/plain": [
              "                 % Tipo Imovel\n",
              "Entire home/apt      69.931627\n",
              "Private room         28.335188\n",
              "Hotel room            1.160757\n",
              "Shared room           0.572428"
            ],
            "text/html": [
              "\n",
              "  <div id=\"df-5f18ce2b-5ef5-4e9d-904b-e4894641d1b6\">\n",
              "    <div class=\"colab-df-container\">\n",
              "      <div>\n",
              "<style scoped>\n",
              "    .dataframe tbody tr th:only-of-type {\n",
              "        vertical-align: middle;\n",
              "    }\n",
              "\n",
              "    .dataframe tbody tr th {\n",
              "        vertical-align: top;\n",
              "    }\n",
              "\n",
              "    .dataframe thead th {\n",
              "        text-align: right;\n",
              "    }\n",
              "</style>\n",
              "<table border=\"1\" class=\"dataframe\">\n",
              "  <thead>\n",
              "    <tr style=\"text-align: right;\">\n",
              "      <th></th>\n",
              "      <th>% Tipo Imovel</th>\n",
              "    </tr>\n",
              "  </thead>\n",
              "  <tbody>\n",
              "    <tr>\n",
              "      <th>Entire home/apt</th>\n",
              "      <td>69.931627</td>\n",
              "    </tr>\n",
              "    <tr>\n",
              "      <th>Private room</th>\n",
              "      <td>28.335188</td>\n",
              "    </tr>\n",
              "    <tr>\n",
              "      <th>Hotel room</th>\n",
              "      <td>1.160757</td>\n",
              "    </tr>\n",
              "    <tr>\n",
              "      <th>Shared room</th>\n",
              "      <td>0.572428</td>\n",
              "    </tr>\n",
              "  </tbody>\n",
              "</table>\n",
              "</div>\n",
              "      <button class=\"colab-df-convert\" onclick=\"convertToInteractive('df-5f18ce2b-5ef5-4e9d-904b-e4894641d1b6')\"\n",
              "              title=\"Convert this dataframe to an interactive table.\"\n",
              "              style=\"display:none;\">\n",
              "        \n",
              "  <svg xmlns=\"http://www.w3.org/2000/svg\" height=\"24px\"viewBox=\"0 0 24 24\"\n",
              "       width=\"24px\">\n",
              "    <path d=\"M0 0h24v24H0V0z\" fill=\"none\"/>\n",
              "    <path d=\"M18.56 5.44l.94 2.06.94-2.06 2.06-.94-2.06-.94-.94-2.06-.94 2.06-2.06.94zm-11 1L8.5 8.5l.94-2.06 2.06-.94-2.06-.94L8.5 2.5l-.94 2.06-2.06.94zm10 10l.94 2.06.94-2.06 2.06-.94-2.06-.94-.94-2.06-.94 2.06-2.06.94z\"/><path d=\"M17.41 7.96l-1.37-1.37c-.4-.4-.92-.59-1.43-.59-.52 0-1.04.2-1.43.59L10.3 9.45l-7.72 7.72c-.78.78-.78 2.05 0 2.83L4 21.41c.39.39.9.59 1.41.59.51 0 1.02-.2 1.41-.59l7.78-7.78 2.81-2.81c.8-.78.8-2.07 0-2.86zM5.41 20L4 18.59l7.72-7.72 1.47 1.35L5.41 20z\"/>\n",
              "  </svg>\n",
              "      </button>\n",
              "      \n",
              "  <style>\n",
              "    .colab-df-container {\n",
              "      display:flex;\n",
              "      flex-wrap:wrap;\n",
              "      gap: 12px;\n",
              "    }\n",
              "\n",
              "    .colab-df-convert {\n",
              "      background-color: #E8F0FE;\n",
              "      border: none;\n",
              "      border-radius: 50%;\n",
              "      cursor: pointer;\n",
              "      display: none;\n",
              "      fill: #1967D2;\n",
              "      height: 32px;\n",
              "      padding: 0 0 0 0;\n",
              "      width: 32px;\n",
              "    }\n",
              "\n",
              "    .colab-df-convert:hover {\n",
              "      background-color: #E2EBFA;\n",
              "      box-shadow: 0px 1px 2px rgba(60, 64, 67, 0.3), 0px 1px 3px 1px rgba(60, 64, 67, 0.15);\n",
              "      fill: #174EA6;\n",
              "    }\n",
              "\n",
              "    [theme=dark] .colab-df-convert {\n",
              "      background-color: #3B4455;\n",
              "      fill: #D2E3FC;\n",
              "    }\n",
              "\n",
              "    [theme=dark] .colab-df-convert:hover {\n",
              "      background-color: #434B5C;\n",
              "      box-shadow: 0px 1px 3px 1px rgba(0, 0, 0, 0.15);\n",
              "      filter: drop-shadow(0px 1px 2px rgba(0, 0, 0, 0.3));\n",
              "      fill: #FFFFFF;\n",
              "    }\n",
              "  </style>\n",
              "\n",
              "      <script>\n",
              "        const buttonEl =\n",
              "          document.querySelector('#df-5f18ce2b-5ef5-4e9d-904b-e4894641d1b6 button.colab-df-convert');\n",
              "        buttonEl.style.display =\n",
              "          google.colab.kernel.accessAllowed ? 'block' : 'none';\n",
              "\n",
              "        async function convertToInteractive(key) {\n",
              "          const element = document.querySelector('#df-5f18ce2b-5ef5-4e9d-904b-e4894641d1b6');\n",
              "          const dataTable =\n",
              "            await google.colab.kernel.invokeFunction('convertToInteractive',\n",
              "                                                     [key], {});\n",
              "          if (!dataTable) return;\n",
              "\n",
              "          const docLinkHtml = 'Like what you see? Visit the ' +\n",
              "            '<a target=\"_blank\" href=https://colab.research.google.com/notebooks/data_table.ipynb>data table notebook</a>'\n",
              "            + ' to learn more about interactive tables.';\n",
              "          element.innerHTML = '';\n",
              "          dataTable['output_type'] = 'display_data';\n",
              "          await google.colab.output.renderOutput(dataTable, element);\n",
              "          const docLink = document.createElement('div');\n",
              "          docLink.innerHTML = docLinkHtml;\n",
              "          element.appendChild(docLink);\n",
              "        }\n",
              "      </script>\n",
              "    </div>\n",
              "  </div>\n",
              "  "
            ]
          },
          "metadata": {}
        }
      ]
    },
    {
      "cell_type": "code",
      "source": [
        "fig, ax = plt.subplots(figsize=(10,6),dpi=75)\n",
        "cmap = sns.color_palette(\"BuGn\", n_colors=4)\n",
        "cmap.reverse()\n",
        "\n",
        "data = df_clean.room_type.value_counts()\n",
        "\n",
        "ax = data.plot.barh(color=cmap)\n",
        "ax.invert_yaxis()\n",
        "# titulo\n",
        "ax.text(-0.5, -0.8,'Tipos de imóveis alugados em Amsterdã', fontsize=18, color=\"#515151\", fontweight='bold')\n",
        "\n",
        "\n",
        "# remover xticks e xticklabels\n",
        "ax.set_xticklabels(labels=[], visible=False)\n",
        "ax.set_xticks(ticks=[])\n",
        "\n",
        "# removendo spines dos gráficos\n",
        "ax.spines['right'].set_visible(False)\n",
        "ax.spines['left'].set_visible(False)  \n",
        "ax.spines['top'].set_visible(False)\n",
        "ax.spines['bottom'].set_visible(False)\n",
        "\n",
        "# anotações nos pontos de scatter\n",
        "for i, j in enumerate(data):\n",
        "    ax.annotate(\n",
        "        round(j),\n",
        "        xy=(j+50, i),\n",
        "        # xytext=(-12,5),\n",
        "        # textcoords='offset points',\n",
        "        fontsize=12,\n",
        "        fontweight='medium'\n",
        "    )\n",
        "\n",
        "plt.show()\n",
        "\n"
      ],
      "metadata": {
        "colab": {
          "base_uri": "https://localhost:8080/",
          "height": 413
        },
        "id": "B6PrQVHREqxw",
        "outputId": "1b2d722d-c428-4128-8945-e17d2554b9b2"
      },
      "execution_count": 6,
      "outputs": [
        {
          "output_type": "display_data",
          "data": {
            "text/plain": [
              "<Figure size 750x450 with 1 Axes>"
            ],
            "image/png": "[encoded data removed]"
          },
          "metadata": {
            "needs_background": "light"
          }
        }
      ]
    },
    {
      "cell_type": "markdown",
      "metadata": {
        "id": "vOj5_Mu-BwW-"
      },
      "source": [
        "O resultado mostra que existe um leque de ofertas bem generoso, contemplando todos os tipos de imóveis para alugar.\n",
        "A maior parte é composta por `Entire home/apt` (casa/apartamento completo), cerca de 4.300 imóveis, o que representa quase 70% do total."
      ]
    },
    {
      "cell_type": "markdown",
      "source": [
        "## ***Valor do preço médio por tipo de locação***\n",
        "\n",
        "Dentro das opções de locações, faremos uma analise do preço médio da diária de aluguel."
      ],
      "metadata": {
        "id": "qAjPgeqh-YDS"
      }
    },
    {
      "cell_type": "code",
      "source": [
        "df_clean.rename(columns={\"room_type\" : \"Tipo de Imovel\"}, inplace=False).groupby([\"Tipo de Imovel\"])[\"price\"].mean().sort_values(ascending=False)"
      ],
      "metadata": {
        "colab": {
          "base_uri": "https://localhost:8080/"
        },
        "id": "ngY8qQxG7tW-",
        "outputId": "0ca9a33b-a19b-4d9d-8441-7578b6116931"
      },
      "execution_count": 34,
      "outputs": [
        {
          "output_type": "execute_result",
          "data": {
            "text/plain": [
              "Tipo de Imovel\n",
              "Entire home/apt    210.340382\n",
              "Hotel room         194.397260\n",
              "Private room       153.685185\n",
              "Shared room        108.972222\n",
              "Name: price, dtype: float64"
            ]
          },
          "metadata": {},
          "execution_count": 34
        }
      ]
    },
    {
      "cell_type": "code",
      "source": [
        "dados = df_clean.groupby([\"room_type\"])[\"price\"].mean().sort_values(ascending=False)\n",
        "\n",
        "fig, ax = plt.subplots(figsize=(10,6), dpi=75)\n",
        "cmap = sns.color_palette(\"BuGn\", n_colors=5)\n",
        "cmap.reverse()\n",
        "ax = dados.plot.barh(color=cmap)\n",
        "ax.invert_yaxis()\n",
        "\n",
        "# titulo\n",
        "ax.text(-0.5, -0.8,'Preço médio da diária por tipo de locação', fontsize=18, color=\"#515151\", fontweight='bold')\n",
        "ax.text(-0.5, -0.5,'Valores em Euros €', fontsize=12, color=\"#9E9E9E\")\n",
        "\n",
        "# remover xticks e xticklabels\n",
        "ax.set_xticklabels(labels=[], visible=False)\n",
        "ax.set_xticks(ticks=[])\n",
        "\n",
        "ax.set_ylabel('')\n",
        "\n",
        "# removendo spines dos gráficos\n",
        "ax.spines['right'].set_visible(False)\n",
        "ax.spines['left'].set_visible(False)  \n",
        "ax.spines['top'].set_visible(False)\n",
        "ax.spines['bottom'].set_visible(False)\n",
        "\n",
        "for i, v in enumerate(dados):\n",
        "    ax.text(v+5 , i, '{:.2f} €'.format(v), color='black', fontweight='medium')\n",
        "\n",
        "plt.show()\n"
      ],
      "metadata": {
        "colab": {
          "base_uri": "https://localhost:8080/",
          "height": 413
        },
        "id": "B1aVca-JLSfU",
        "outputId": "de7c2df6-ec40-4509-fc8f-7782691df021"
      },
      "execution_count": 35,
      "outputs": [
        {
          "output_type": "display_data",
          "data": {
            "text/plain": [
              "<Figure size 750x450 with 1 Axes>"
            ],
            "image/png": "[encoded data removed]"
          },
          "metadata": {
            "needs_background": "light"
          }
        }
      ]
    },
    {
      "cell_type": "markdown",
      "metadata": {
        "id": "MFa5NbnLJMcd"
      },
      "source": [
        "### ***Qual a localidade mais cara de Amsterdã?***\n",
        "\n"
      ]
    },
    {
      "cell_type": "markdown",
      "metadata": {
        "id": "ACNsfBIjPDVe"
      },
      "source": [
        "Realizamos esta analise considerando o valor médio do preço `price` de locação agrupado por bairro `neighbourhoods`"
      ]
    },
    {
      "cell_type": "code",
      "metadata": {
        "id": "MD_xa143JZpi",
        "colab": {
          "base_uri": "https://localhost:8080/"
        },
        "outputId": "b4cd9e6c-ac4a-417a-e575-0d3358adc8a1"
      },
      "source": [
        "# ver preços por bairros, na média\n",
        "df_clean.rename(columns={\"neighbourhood\":\"Bairro\"}, inplace=False).groupby(['Bairro']).price.mean().sort_values(ascending=False).head(5)"
      ],
      "execution_count": 22,
      "outputs": [
        {
          "output_type": "execute_result",
          "data": {
            "text/plain": [
              "Bairro\n",
              "Centrum-West               216.399249\n",
              "De Pijp - Rivierenbuurt    214.006202\n",
              "Zuid                       213.720207\n",
              "Centrum-Oost               212.685455\n",
              "De Baarsjes - Oud-West     198.015351\n",
              "Name: price, dtype: float64"
            ]
          },
          "metadata": {},
          "execution_count": 22
        }
      ]
    },
    {
      "cell_type": "code",
      "metadata": {
        "colab": {
          "base_uri": "https://localhost:8080/",
          "height": 407
        },
        "id": "pwGMBZrUE6dk",
        "outputId": "db33340b-ad2e-41df-ef6e-671e01e7948a"
      },
      "source": [
        "fig, ax = plt.subplots(figsize=(10,6),dpi=75)\n",
        "cmap = sns.color_palette(\"BuGn\", n_colors=5)\n",
        "cmap.reverse()\n",
        "\n",
        "data = df_clean.groupby(['neighbourhood']).price.mean().sort_values(ascending=False).head(5)\n",
        "\n",
        "ax = data.plot.barh(color=cmap)\n",
        "ax.invert_yaxis()\n",
        "\n",
        "# titulo\n",
        "ax.text(-0.5, -0.8,'Localidades mais caras em Amsterdã', fontsize=18, color=\"#515151\", fontweight='bold')\n",
        "ax.text(-0.5, -0.5,'Preço Médio em Euros €', fontsize=12, color=\"#9E9E9E\")\n",
        "\n",
        "# remover xticks e xticklabels\n",
        "ax.set_xticklabels(labels=[], visible=False)\n",
        "ax.set_xticks(ticks=[])\n",
        "\n",
        "ax.set_ylabel('')\n",
        "\n",
        "# removendo spines dos gráficos\n",
        "ax.spines['right'].set_visible(False)\n",
        "ax.spines['left'].set_visible(False)  \n",
        "ax.spines['top'].set_visible(False)\n",
        "ax.spines['bottom'].set_visible(False)\n",
        "\n",
        "for i, v in enumerate(data):\n",
        "    ax.text(v+5 , i, '{:.2f} €'.format(v), color='black', fontweight='medium')\n",
        "\n",
        "plt.show()"
      ],
      "execution_count": 23,
      "outputs": [
        {
          "output_type": "display_data",
          "data": {
            "text/plain": [
              "<Figure size 750x450 with 1 Axes>"
            ],
            "image/png": "[encoded data removed]"
          },
          "metadata": {
            "needs_background": "light"
          }
        }
      ]
    },
    {
      "cell_type": "markdown",
      "metadata": {
        "id": "LQTyXjiGfzhW"
      },
      "source": [
        "\n",
        "Os resultados agrupados por bairro, mostram que `Centrum-West` e `Bohemian De Pijp`, são os bairros mais caros, tendo o custo médio mais elevado para aluguel, onde a diária varia em torno de 215 euros na média.\n",
        "\n",
        "Isto se justifica, pois são localidades de atrações turísticas famosas, populares e renomadas internacionalmente.\n",
        "\n",
        "O bairro `Centrum-West` combina o centro da cidade, a parte mais antiga de Amsterdã, que inclui a área do anel de canais e Wallen (Red Light District).\n",
        "\n",
        "As ruas estreitas de `Bohemian De Pijp` estão repletas de restaurantes do Oriente Médio, pubs antigos e cafés com mesas ao ar livre. Feirantes simpáticos do Albert Cuypmarkt vendem especialidades holandesas como arenques e waffles.\n",
        "\n",
        "Vamos realizar uma analise de dados sobre esses dois bairros citados, mostrando \n",
        "todas as opções disponíveis.\n",
        "\n",
        "\n"
      ]
    },
    {
      "cell_type": "code",
      "metadata": {
        "colab": {
          "base_uri": "https://localhost:8080/"
        },
        "id": "JJTFkiVqF627",
        "outputId": "5118da1c-a901-4400-c5e5-ddeb07d864dc"
      },
      "source": [
        "# Tipos de imóveis e quantidades disponiveis para aluguel para o bairro Centrum-Oost\n",
        "df_clean.loc[df_clean.neighbourhood == \"De Pijp - Rivierenbuurt\"]['room_type'].value_counts()"
      ],
      "execution_count": 24,
      "outputs": [
        {
          "output_type": "execute_result",
          "data": {
            "text/plain": [
              "Entire home/apt    502\n",
              "Private room       137\n",
              "Hotel room           4\n",
              "Shared room          2\n",
              "Name: room_type, dtype: int64"
            ]
          },
          "metadata": {},
          "execution_count": 24
        }
      ]
    },
    {
      "cell_type": "code",
      "metadata": {
        "colab": {
          "base_uri": "https://localhost:8080/"
        },
        "id": "cgX-gZjoIaUq",
        "outputId": "1225650e-4cf6-4133-84ed-93c82745ee1c"
      },
      "source": [
        "# Tipos de imóveis e quantidades disponiveis para aluguel para o bairro Centrum-West\n",
        "df_clean.loc[df_clean.neighbourhood == \"Centrum-West\"]['room_type'].value_counts()"
      ],
      "execution_count": 25,
      "outputs": [
        {
          "output_type": "execute_result",
          "data": {
            "text/plain": [
              "Private room       389\n",
              "Entire home/apt    384\n",
              "Hotel room          17\n",
              "Shared room          9\n",
              "Name: room_type, dtype: int64"
            ]
          },
          "metadata": {},
          "execution_count": 25
        }
      ]
    },
    {
      "cell_type": "code",
      "metadata": {
        "colab": {
          "base_uri": "https://localhost:8080/"
        },
        "id": "RADMXT8fXbMY",
        "outputId": "67d47033-3ef7-48ae-9471-7c489ef188e1"
      },
      "source": [
        "# Quantidade imóveis disponiveis para locação dos bairros Centrum-Oost e Centrum-West.\n",
        "print(\"Número de imóveis disponíveis em De Pijp - Rivierenbuurt é {}, \".format(df_clean.loc[df_clean.neighbourhood == \"De Pijp - Rivierenbuurt\"].shape[0]) + \"que representa {:.2f}% do total de imóveis disponíveis\".format((df_clean.loc[df_clean.neighbourhood == \"De Pijp - Rivierenbuurt\"].shape[0] / df_clean.shape[0]) * 100) )\n",
        "print(\"Número de imóveis disponíveis em Centrum-West é {}, \".format(df_clean.loc[df_clean.neighbourhood == \"Centrum-West\"].shape[0]) + \"que representa {:.2f}% do total de imóveis disponíveis\".format((df_clean.loc[df_clean.neighbourhood == \"Centrum-West\"].shape[0] / df_clean.shape[0]) * 100) )\n",
        "print(\"Número total de imóveis disponíveis em De Pijp - Rivierenbuurt e Centrum-West é {}, \".format(df_clean.loc[(df_clean.neighbourhood == 'Centrum-West') | (df_clean.neighbourhood == 'De Pijp - Rivierenbuurt'), ['neighbourhood'] ].value_counts().sum()) + \"que representa {:.2f}% do total de imóveis disponíveis\".format((df_clean.loc[(df_clean.neighbourhood == 'Centrum-West') | (df_clean.neighbourhood == 'De Pijp - Rivierenbuurt'), ['neighbourhood'] ].value_counts().sum() / df_clean.shape[0]) * 100))"
      ],
      "execution_count": 26,
      "outputs": [
        {
          "output_type": "stream",
          "name": "stdout",
          "text": [
            "Número de imóveis disponíveis em De Pijp - Rivierenbuurt é 645, que representa 10.26% do total de imóveis disponíveis\n",
            "Número de imóveis disponíveis em Centrum-West é 799, que representa 12.70% do total de imóveis disponíveis\n",
            "Número total de imóveis disponíveis em De Pijp - Rivierenbuurt e Centrum-West é 1444, que representa 22.96% do total de imóveis disponíveis\n"
          ]
        }
      ]
    },
    {
      "cell_type": "markdown",
      "metadata": {
        "id": "j-_3SZUdmVR_"
      },
      "source": [
        "### ***Buscando opções que cabem no bolso***\n",
        "\n",
        "Sabendo que esses bairros são considerados \"badalados\", portanto os mais caros, vamos buscar oportunidades que possam atender também as pessoas que querem ficar próximas as melhores localizações, mas não podem gastar muito com o aluguel.\n",
        "\n",
        "Para realizar essa pesquisa, realizei um filtro nos dados, retirando os registros que possuiam o valor zero na variável `price`."
      ]
    },
    {
      "cell_type": "code",
      "metadata": {
        "colab": {
          "base_uri": "https://localhost:8080/",
          "height": 363
        },
        "id": "_kbL5D3P4YDp",
        "outputId": "d6bd9afd-ea26-438f-ef9c-4a9a9389a87e"
      },
      "source": [
        "df_clean.loc[(df_clean.neighbourhood == \"Centrum-West\") & (df_clean.price > 0),['room_type','name','neighbourhood','minimum_nights','price']].sort_values(by=\"price\", ascending=True)[:10]"
      ],
      "execution_count": 27,
      "outputs": [
        {
          "output_type": "execute_result",
          "data": {
            "text/plain": [
              "            room_type                                              name  \\\n",
              "2937     Private room  Two Person Room / Separate Beds and Own Bathroom   \n",
              "950   Entire home/apt   Amsterdam Center, Jordaan with balcony + canals   \n",
              "1212  Entire home/apt             City center apartment with big garden   \n",
              "898      Private room  Room with private garden in CENTER of Amsterdam!   \n",
              "2756     Private room                                Single City Centre   \n",
              "948      Private room        Bright spacious bedroom with sunny balcony   \n",
              "369      Private room  Centre Ams - Welcome to your Home away from Home   \n",
              "1135     Private room              Comfortable Room with private Shower   \n",
              "3        Private room                           Comfortable double room   \n",
              "4295  Entire home/apt                New charming city centre apartment   \n",
              "\n",
              "     neighbourhood  minimum_nights  price  \n",
              "2937  Centrum-West               2     44  \n",
              "950   Centrum-West               3     48  \n",
              "1212  Centrum-West               3     50  \n",
              "898   Centrum-West               1     57  \n",
              "2756  Centrum-West               2     63  \n",
              "948   Centrum-West               3     65  \n",
              "369   Centrum-West               3     66  \n",
              "1135  Centrum-West               4     75  \n",
              "3     Centrum-West               2     75  \n",
              "4295  Centrum-West               5     77  "
            ],
            "text/html": [
              "\n",
              "  <div id=\"df-408b03a8-d089-4188-961c-f846e689d050\">\n",
              "    <div class=\"colab-df-container\">\n",
              "      <div>\n",
              "<style scoped>\n",
              "    .dataframe tbody tr th:only-of-type {\n",
              "        vertical-align: middle;\n",
              "    }\n",
              "\n",
              "    .dataframe tbody tr th {\n",
              "        vertical-align: top;\n",
              "    }\n",
              "\n",
              "    .dataframe thead th {\n",
              "        text-align: right;\n",
              "    }\n",
              "</style>\n",
              "<table border=\"1\" class=\"dataframe\">\n",
              "  <thead>\n",
              "    <tr style=\"text-align: right;\">\n",
              "      <th></th>\n",
              "      <th>room_type</th>\n",
              "      <th>name</th>\n",
              "      <th>neighbourhood</th>\n",
              "      <th>minimum_nights</th>\n",
              "      <th>price</th>\n",
              "    </tr>\n",
              "  </thead>\n",
              "  <tbody>\n",
              "    <tr>\n",
              "      <th>2937</th>\n",
              "      <td>Private room</td>\n",
              "      <td>Two Person Room / Separate Beds and Own Bathroom</td>\n",
              "      <td>Centrum-West</td>\n",
              "      <td>2</td>\n",
              "      <td>44</td>\n",
              "    </tr>\n",
              "    <tr>\n",
              "      <th>950</th>\n",
              "      <td>Entire home/apt</td>\n",
              "      <td>Amsterdam Center, Jordaan with balcony + canals</td>\n",
              "      <td>Centrum-West</td>\n",
              "      <td>3</td>\n",
              "      <td>48</td>\n",
              "    </tr>\n",
              "    <tr>\n",
              "      <th>1212</th>\n",
              "      <td>Entire home/apt</td>\n",
              "      <td>City center apartment with big garden</td>\n",
              "      <td>Centrum-West</td>\n",
              "      <td>3</td>\n",
              "      <td>50</td>\n",
              "    </tr>\n",
              "    <tr>\n",
              "      <th>898</th>\n",
              "      <td>Private room</td>\n",
              "      <td>Room with private garden in CENTER of Amsterdam!</td>\n",
              "      <td>Centrum-West</td>\n",
              "      <td>1</td>\n",
              "      <td>57</td>\n",
              "    </tr>\n",
              "    <tr>\n",
              "      <th>2756</th>\n",
              "      <td>Private room</td>\n",
              "      <td>Single City Centre</td>\n",
              "      <td>Centrum-West</td>\n",
              "      <td>2</td>\n",
              "      <td>63</td>\n",
              "    </tr>\n",
              "    <tr>\n",
              "      <th>948</th>\n",
              "      <td>Private room</td>\n",
              "      <td>Bright spacious bedroom with sunny balcony</td>\n",
              "      <td>Centrum-West</td>\n",
              "      <td>3</td>\n",
              "      <td>65</td>\n",
              "    </tr>\n",
              "    <tr>\n",
              "      <th>369</th>\n",
              "      <td>Private room</td>\n",
              "      <td>Centre Ams - Welcome to your Home away from Home</td>\n",
              "      <td>Centrum-West</td>\n",
              "      <td>3</td>\n",
              "      <td>66</td>\n",
              "    </tr>\n",
              "    <tr>\n",
              "      <th>1135</th>\n",
              "      <td>Private room</td>\n",
              "      <td>Comfortable Room with private Shower</td>\n",
              "      <td>Centrum-West</td>\n",
              "      <td>4</td>\n",
              "      <td>75</td>\n",
              "    </tr>\n",
              "    <tr>\n",
              "      <th>3</th>\n",
              "      <td>Private room</td>\n",
              "      <td>Comfortable double room</td>\n",
              "      <td>Centrum-West</td>\n",
              "      <td>2</td>\n",
              "      <td>75</td>\n",
              "    </tr>\n",
              "    <tr>\n",
              "      <th>4295</th>\n",
              "      <td>Entire home/apt</td>\n",
              "      <td>New charming city centre apartment</td>\n",
              "      <td>Centrum-West</td>\n",
              "      <td>5</td>\n",
              "      <td>77</td>\n",
              "    </tr>\n",
              "  </tbody>\n",
              "</table>\n",
              "</div>\n",
              "      <button class=\"colab-df-convert\" onclick=\"convertToInteractive('df-408b03a8-d089-4188-961c-f846e689d050')\"\n",
              "              title=\"Convert this dataframe to an interactive table.\"\n",
              "              style=\"display:none;\">\n",
              "        \n",
              "  <svg xmlns=\"http://www.w3.org/2000/svg\" height=\"24px\"viewBox=\"0 0 24 24\"\n",
              "       width=\"24px\">\n",
              "    <path d=\"M0 0h24v24H0V0z\" fill=\"none\"/>\n",
              "    <path d=\"M18.56 5.44l.94 2.06.94-2.06 2.06-.94-2.06-.94-.94-2.06-.94 2.06-2.06.94zm-11 1L8.5 8.5l.94-2.06 2.06-.94-2.06-.94L8.5 2.5l-.94 2.06-2.06.94zm10 10l.94 2.06.94-2.06 2.06-.94-2.06-.94-.94-2.06-.94 2.06-2.06.94z\"/><path d=\"M17.41 7.96l-1.37-1.37c-.4-.4-.92-.59-1.43-.59-.52 0-1.04.2-1.43.59L10.3 9.45l-7.72 7.72c-.78.78-.78 2.05 0 2.83L4 21.41c.39.39.9.59 1.41.59.51 0 1.02-.2 1.41-.59l7.78-7.78 2.81-2.81c.8-.78.8-2.07 0-2.86zM5.41 20L4 18.59l7.72-7.72 1.47 1.35L5.41 20z\"/>\n",
              "  </svg>\n",
              "      </button>\n",
              "      \n",
              "  <style>\n",
              "    .colab-df-container {\n",
              "      display:flex;\n",
              "      flex-wrap:wrap;\n",
              "      gap: 12px;\n",
              "    }\n",
              "\n",
              "    .colab-df-convert {\n",
              "      background-color: #E8F0FE;\n",
              "      border: none;\n",
              "      border-radius: 50%;\n",
              "      cursor: pointer;\n",
              "      display: none;\n",
              "      fill: #1967D2;\n",
              "      height: 32px;\n",
              "      padding: 0 0 0 0;\n",
              "      width: 32px;\n",
              "    }\n",
              "\n",
              "    .colab-df-convert:hover {\n",
              "      background-color: #E2EBFA;\n",
              "      box-shadow: 0px 1px 2px rgba(60, 64, 67, 0.3), 0px 1px 3px 1px rgba(60, 64, 67, 0.15);\n",
              "      fill: #174EA6;\n",
              "    }\n",
              "\n",
              "    [theme=dark] .colab-df-convert {\n",
              "      background-color: #3B4455;\n",
              "      fill: #D2E3FC;\n",
              "    }\n",
              "\n",
              "    [theme=dark] .colab-df-convert:hover {\n",
              "      background-color: #434B5C;\n",
              "      box-shadow: 0px 1px 3px 1px rgba(0, 0, 0, 0.15);\n",
              "      filter: drop-shadow(0px 1px 2px rgba(0, 0, 0, 0.3));\n",
              "      fill: #FFFFFF;\n",
              "    }\n",
              "  </style>\n",
              "\n",
              "      <script>\n",
              "        const buttonEl =\n",
              "          document.querySelector('#df-408b03a8-d089-4188-961c-f846e689d050 button.colab-df-convert');\n",
              "        buttonEl.style.display =\n",
              "          google.colab.kernel.accessAllowed ? 'block' : 'none';\n",
              "\n",
              "        async function convertToInteractive(key) {\n",
              "          const element = document.querySelector('#df-408b03a8-d089-4188-961c-f846e689d050');\n",
              "          const dataTable =\n",
              "            await google.colab.kernel.invokeFunction('convertToInteractive',\n",
              "                                                     [key], {});\n",
              "          if (!dataTable) return;\n",
              "\n",
              "          const docLinkHtml = 'Like what you see? Visit the ' +\n",
              "            '<a target=\"_blank\" href=https://colab.research.google.com/notebooks/data_table.ipynb>data table notebook</a>'\n",
              "            + ' to learn more about interactive tables.';\n",
              "          element.innerHTML = '';\n",
              "          dataTable['output_type'] = 'display_data';\n",
              "          await google.colab.output.renderOutput(dataTable, element);\n",
              "          const docLink = document.createElement('div');\n",
              "          docLink.innerHTML = docLinkHtml;\n",
              "          element.appendChild(docLink);\n",
              "        }\n",
              "      </script>\n",
              "    </div>\n",
              "  </div>\n",
              "  "
            ]
          },
          "metadata": {},
          "execution_count": 27
        }
      ]
    },
    {
      "cell_type": "code",
      "metadata": {
        "colab": {
          "base_uri": "https://localhost:8080/",
          "height": 363
        },
        "id": "OY185_UeDPHQ",
        "outputId": "5c7d51de-1849-4b1d-fd86-5ce14f43a777"
      },
      "source": [
        "df_clean.loc[(df_clean.neighbourhood == \"De Pijp - Rivierenbuurt\") & (df_clean.price > 0),['room_type','name','neighbourhood','minimum_nights','price']].sort_values(by=\"price\", ascending=True)[:10]"
      ],
      "execution_count": 28,
      "outputs": [
        {
          "output_type": "execute_result",
          "data": {
            "text/plain": [
              "            room_type                                               name  \\\n",
              "3213      Shared room               Stay on my comfy Sofa-bed In De-Pijp   \n",
              "2826  Entire home/apt     Kid-friendly home with garden in Rivierenbuurt   \n",
              "4075     Private room                 Sweet room in P&J's informal home!   \n",
              "5359      Shared room                       Cocomama - Bed in 6-bed dorm   \n",
              "4215     Private room     Spacious room with private bathroom Rai Centre   \n",
              "1084  Entire home/apt        Apartment with garden close to Amstel River   \n",
              "3505  Entire home/apt      Cozy apartment on Rustenburgerstraat, De Pijp   \n",
              "2344     Private room                       Cosy single room with a view   \n",
              "1357     Private room    Cosy room with double bed & lounge (apt shared)   \n",
              "3503  Entire home/apt  Bright cozy apartment in beautiful Amsterdam S...   \n",
              "\n",
              "                neighbourhood  minimum_nights  price  \n",
              "3213  De Pijp - Rivierenbuurt               1     45  \n",
              "2826  De Pijp - Rivierenbuurt               2     50  \n",
              "4075  De Pijp - Rivierenbuurt               2     60  \n",
              "5359  De Pijp - Rivierenbuurt               1     62  \n",
              "4215  De Pijp - Rivierenbuurt               1     67  \n",
              "1084  De Pijp - Rivierenbuurt               3     69  \n",
              "3505  De Pijp - Rivierenbuurt               1     70  \n",
              "2344  De Pijp - Rivierenbuurt               3     72  \n",
              "1357  De Pijp - Rivierenbuurt               2     72  \n",
              "3503  De Pijp - Rivierenbuurt               2     75  "
            ],
            "text/html": [
              "\n",
              "  <div id=\"df-534e9606-b145-4fc8-9bfc-f70e88101154\">\n",
              "    <div class=\"colab-df-container\">\n",
              "      <div>\n",
              "<style scoped>\n",
              "    .dataframe tbody tr th:only-of-type {\n",
              "        vertical-align: middle;\n",
              "    }\n",
              "\n",
              "    .dataframe tbody tr th {\n",
              "        vertical-align: top;\n",
              "    }\n",
              "\n",
              "    .dataframe thead th {\n",
              "        text-align: right;\n",
              "    }\n",
              "</style>\n",
              "<table border=\"1\" class=\"dataframe\">\n",
              "  <thead>\n",
              "    <tr style=\"text-align: right;\">\n",
              "      <th></th>\n",
              "      <th>room_type</th>\n",
              "      <th>name</th>\n",
              "      <th>neighbourhood</th>\n",
              "      <th>minimum_nights</th>\n",
              "      <th>price</th>\n",
              "    </tr>\n",
              "  </thead>\n",
              "  <tbody>\n",
              "    <tr>\n",
              "      <th>3213</th>\n",
              "      <td>Shared room</td>\n",
              "      <td>Stay on my comfy Sofa-bed In De-Pijp</td>\n",
              "      <td>De Pijp - Rivierenbuurt</td>\n",
              "      <td>1</td>\n",
              "      <td>45</td>\n",
              "    </tr>\n",
              "    <tr>\n",
              "      <th>2826</th>\n",
              "      <td>Entire home/apt</td>\n",
              "      <td>Kid-friendly home with garden in Rivierenbuurt</td>\n",
              "      <td>De Pijp - Rivierenbuurt</td>\n",
              "      <td>2</td>\n",
              "      <td>50</td>\n",
              "    </tr>\n",
              "    <tr>\n",
              "      <th>4075</th>\n",
              "      <td>Private room</td>\n",
              "      <td>Sweet room in P&amp;J's informal home!</td>\n",
              "      <td>De Pijp - Rivierenbuurt</td>\n",
              "      <td>2</td>\n",
              "      <td>60</td>\n",
              "    </tr>\n",
              "    <tr>\n",
              "      <th>5359</th>\n",
              "      <td>Shared room</td>\n",
              "      <td>Cocomama - Bed in 6-bed dorm</td>\n",
              "      <td>De Pijp - Rivierenbuurt</td>\n",
              "      <td>1</td>\n",
              "      <td>62</td>\n",
              "    </tr>\n",
              "    <tr>\n",
              "      <th>4215</th>\n",
              "      <td>Private room</td>\n",
              "      <td>Spacious room with private bathroom Rai Centre</td>\n",
              "      <td>De Pijp - Rivierenbuurt</td>\n",
              "      <td>1</td>\n",
              "      <td>67</td>\n",
              "    </tr>\n",
              "    <tr>\n",
              "      <th>1084</th>\n",
              "      <td>Entire home/apt</td>\n",
              "      <td>Apartment with garden close to Amstel River</td>\n",
              "      <td>De Pijp - Rivierenbuurt</td>\n",
              "      <td>3</td>\n",
              "      <td>69</td>\n",
              "    </tr>\n",
              "    <tr>\n",
              "      <th>3505</th>\n",
              "      <td>Entire home/apt</td>\n",
              "      <td>Cozy apartment on Rustenburgerstraat, De Pijp</td>\n",
              "      <td>De Pijp - Rivierenbuurt</td>\n",
              "      <td>1</td>\n",
              "      <td>70</td>\n",
              "    </tr>\n",
              "    <tr>\n",
              "      <th>2344</th>\n",
              "      <td>Private room</td>\n",
              "      <td>Cosy single room with a view</td>\n",
              "      <td>De Pijp - Rivierenbuurt</td>\n",
              "      <td>3</td>\n",
              "      <td>72</td>\n",
              "    </tr>\n",
              "    <tr>\n",
              "      <th>1357</th>\n",
              "      <td>Private room</td>\n",
              "      <td>Cosy room with double bed &amp; lounge (apt shared)</td>\n",
              "      <td>De Pijp - Rivierenbuurt</td>\n",
              "      <td>2</td>\n",
              "      <td>72</td>\n",
              "    </tr>\n",
              "    <tr>\n",
              "      <th>3503</th>\n",
              "      <td>Entire home/apt</td>\n",
              "      <td>Bright cozy apartment in beautiful Amsterdam S...</td>\n",
              "      <td>De Pijp - Rivierenbuurt</td>\n",
              "      <td>2</td>\n",
              "      <td>75</td>\n",
              "    </tr>\n",
              "  </tbody>\n",
              "</table>\n",
              "</div>\n",
              "      <button class=\"colab-df-convert\" onclick=\"convertToInteractive('df-534e9606-b145-4fc8-9bfc-f70e88101154')\"\n",
              "              title=\"Convert this dataframe to an interactive table.\"\n",
              "              style=\"display:none;\">\n",
              "        \n",
              "  <svg xmlns=\"http://www.w3.org/2000/svg\" height=\"24px\"viewBox=\"0 0 24 24\"\n",
              "       width=\"24px\">\n",
              "    <path d=\"M0 0h24v24H0V0z\" fill=\"none\"/>\n",
              "    <path d=\"M18.56 5.44l.94 2.06.94-2.06 2.06-.94-2.06-.94-.94-2.06-.94 2.06-2.06.94zm-11 1L8.5 8.5l.94-2.06 2.06-.94-2.06-.94L8.5 2.5l-.94 2.06-2.06.94zm10 10l.94 2.06.94-2.06 2.06-.94-2.06-.94-.94-2.06-.94 2.06-2.06.94z\"/><path d=\"M17.41 7.96l-1.37-1.37c-.4-.4-.92-.59-1.43-.59-.52 0-1.04.2-1.43.59L10.3 9.45l-7.72 7.72c-.78.78-.78 2.05 0 2.83L4 21.41c.39.39.9.59 1.41.59.51 0 1.02-.2 1.41-.59l7.78-7.78 2.81-2.81c.8-.78.8-2.07 0-2.86zM5.41 20L4 18.59l7.72-7.72 1.47 1.35L5.41 20z\"/>\n",
              "  </svg>\n",
              "      </button>\n",
              "      \n",
              "  <style>\n",
              "    .colab-df-container {\n",
              "      display:flex;\n",
              "      flex-wrap:wrap;\n",
              "      gap: 12px;\n",
              "    }\n",
              "\n",
              "    .colab-df-convert {\n",
              "      background-color: #E8F0FE;\n",
              "      border: none;\n",
              "      border-radius: 50%;\n",
              "      cursor: pointer;\n",
              "      display: none;\n",
              "      fill: #1967D2;\n",
              "      height: 32px;\n",
              "      padding: 0 0 0 0;\n",
              "      width: 32px;\n",
              "    }\n",
              "\n",
              "    .colab-df-convert:hover {\n",
              "      background-color: #E2EBFA;\n",
              "      box-shadow: 0px 1px 2px rgba(60, 64, 67, 0.3), 0px 1px 3px 1px rgba(60, 64, 67, 0.15);\n",
              "      fill: #174EA6;\n",
              "    }\n",
              "\n",
              "    [theme=dark] .colab-df-convert {\n",
              "      background-color: #3B4455;\n",
              "      fill: #D2E3FC;\n",
              "    }\n",
              "\n",
              "    [theme=dark] .colab-df-convert:hover {\n",
              "      background-color: #434B5C;\n",
              "      box-shadow: 0px 1px 3px 1px rgba(0, 0, 0, 0.15);\n",
              "      filter: drop-shadow(0px 1px 2px rgba(0, 0, 0, 0.3));\n",
              "      fill: #FFFFFF;\n",
              "    }\n",
              "  </style>\n",
              "\n",
              "      <script>\n",
              "        const buttonEl =\n",
              "          document.querySelector('#df-534e9606-b145-4fc8-9bfc-f70e88101154 button.colab-df-convert');\n",
              "        buttonEl.style.display =\n",
              "          google.colab.kernel.accessAllowed ? 'block' : 'none';\n",
              "\n",
              "        async function convertToInteractive(key) {\n",
              "          const element = document.querySelector('#df-534e9606-b145-4fc8-9bfc-f70e88101154');\n",
              "          const dataTable =\n",
              "            await google.colab.kernel.invokeFunction('convertToInteractive',\n",
              "                                                     [key], {});\n",
              "          if (!dataTable) return;\n",
              "\n",
              "          const docLinkHtml = 'Like what you see? Visit the ' +\n",
              "            '<a target=\"_blank\" href=https://colab.research.google.com/notebooks/data_table.ipynb>data table notebook</a>'\n",
              "            + ' to learn more about interactive tables.';\n",
              "          element.innerHTML = '';\n",
              "          dataTable['output_type'] = 'display_data';\n",
              "          await google.colab.output.renderOutput(dataTable, element);\n",
              "          const docLink = document.createElement('div');\n",
              "          docLink.innerHTML = docLinkHtml;\n",
              "          element.appendChild(docLink);\n",
              "        }\n",
              "      </script>\n",
              "    </div>\n",
              "  </div>\n",
              "  "
            ]
          },
          "metadata": {},
          "execution_count": 28
        }
      ]
    },
    {
      "cell_type": "markdown",
      "metadata": {
        "id": "Yf0_uB1J40tB"
      },
      "source": [
        "O resultado nos mostra que, mesmo localizado nos bairros mais caros, existe a disponibilidade de alugar imóveis com o valor do preço da diária mais reduzido, entre 44 e 77 euros."
      ]
    },
    {
      "cell_type": "markdown",
      "metadata": {
        "id": "O4ASSadEKgQ8"
      },
      "source": [
        "### ***Qual o imóvel disponível para locação, mais caro de Amsterdã?***"
      ]
    },
    {
      "cell_type": "code",
      "metadata": {
        "colab": {
          "base_uri": "https://localhost:8080/",
          "height": 206
        },
        "id": "F8lvujZrS3aP",
        "outputId": "a55a8e61-76b6-4c96-d62b-dd12f3bb1a61"
      },
      "source": [
        "# Verificando quais são os imóveis mais caros disponíveis\n",
        "df_clean[['room_type','name','neighbourhood','price']].sort_values(by='price', ascending=False)[:5]\n"
      ],
      "execution_count": 29,
      "outputs": [
        {
          "output_type": "execute_result",
          "data": {
            "text/plain": [
              "            room_type                                               name  \\\n",
              "6237  Entire home/apt          Luxurious 3 bedroom apartment with garden   \n",
              "5784  Entire home/apt  Spacious, family friendly home right on the canal   \n",
              "3981  Entire home/apt   NEW! Our entire historic house in the Canal area   \n",
              "2984  Entire home/apt  Boss (double) Apartment (4 pers) - updated photos   \n",
              "1468  Entire home/apt                           Marnix Top: APT Leidsche   \n",
              "\n",
              "                neighbourhood  price  \n",
              "6237  De Pijp - Rivierenbuurt    471  \n",
              "5784             Centrum-West    471  \n",
              "3981             Centrum-Oost    471  \n",
              "2984   De Baarsjes - Oud-West    471  \n",
              "1468   De Baarsjes - Oud-West    470  "
            ],
            "text/html": [
              "\n",
              "  <div id=\"df-b7ef2c9d-25e8-4d23-b34c-468faf4ae95e\">\n",
              "    <div class=\"colab-df-container\">\n",
              "      <div>\n",
              "<style scoped>\n",
              "    .dataframe tbody tr th:only-of-type {\n",
              "        vertical-align: middle;\n",
              "    }\n",
              "\n",
              "    .dataframe tbody tr th {\n",
              "        vertical-align: top;\n",
              "    }\n",
              "\n",
              "    .dataframe thead th {\n",
              "        text-align: right;\n",
              "    }\n",
              "</style>\n",
              "<table border=\"1\" class=\"dataframe\">\n",
              "  <thead>\n",
              "    <tr style=\"text-align: right;\">\n",
              "      <th></th>\n",
              "      <th>room_type</th>\n",
              "      <th>name</th>\n",
              "      <th>neighbourhood</th>\n",
              "      <th>price</th>\n",
              "    </tr>\n",
              "  </thead>\n",
              "  <tbody>\n",
              "    <tr>\n",
              "      <th>6237</th>\n",
              "      <td>Entire home/apt</td>\n",
              "      <td>Luxurious 3 bedroom apartment with garden</td>\n",
              "      <td>De Pijp - Rivierenbuurt</td>\n",
              "      <td>471</td>\n",
              "    </tr>\n",
              "    <tr>\n",
              "      <th>5784</th>\n",
              "      <td>Entire home/apt</td>\n",
              "      <td>Spacious, family friendly home right on the canal</td>\n",
              "      <td>Centrum-West</td>\n",
              "      <td>471</td>\n",
              "    </tr>\n",
              "    <tr>\n",
              "      <th>3981</th>\n",
              "      <td>Entire home/apt</td>\n",
              "      <td>NEW! Our entire historic house in the Canal area</td>\n",
              "      <td>Centrum-Oost</td>\n",
              "      <td>471</td>\n",
              "    </tr>\n",
              "    <tr>\n",
              "      <th>2984</th>\n",
              "      <td>Entire home/apt</td>\n",
              "      <td>Boss (double) Apartment (4 pers) - updated photos</td>\n",
              "      <td>De Baarsjes - Oud-West</td>\n",
              "      <td>471</td>\n",
              "    </tr>\n",
              "    <tr>\n",
              "      <th>1468</th>\n",
              "      <td>Entire home/apt</td>\n",
              "      <td>Marnix Top: APT Leidsche</td>\n",
              "      <td>De Baarsjes - Oud-West</td>\n",
              "      <td>470</td>\n",
              "    </tr>\n",
              "  </tbody>\n",
              "</table>\n",
              "</div>\n",
              "      <button class=\"colab-df-convert\" onclick=\"convertToInteractive('df-b7ef2c9d-25e8-4d23-b34c-468faf4ae95e')\"\n",
              "              title=\"Convert this dataframe to an interactive table.\"\n",
              "              style=\"display:none;\">\n",
              "        \n",
              "  <svg xmlns=\"http://www.w3.org/2000/svg\" height=\"24px\"viewBox=\"0 0 24 24\"\n",
              "       width=\"24px\">\n",
              "    <path d=\"M0 0h24v24H0V0z\" fill=\"none\"/>\n",
              "    <path d=\"M18.56 5.44l.94 2.06.94-2.06 2.06-.94-2.06-.94-.94-2.06-.94 2.06-2.06.94zm-11 1L8.5 8.5l.94-2.06 2.06-.94-2.06-.94L8.5 2.5l-.94 2.06-2.06.94zm10 10l.94 2.06.94-2.06 2.06-.94-2.06-.94-.94-2.06-.94 2.06-2.06.94z\"/><path d=\"M17.41 7.96l-1.37-1.37c-.4-.4-.92-.59-1.43-.59-.52 0-1.04.2-1.43.59L10.3 9.45l-7.72 7.72c-.78.78-.78 2.05 0 2.83L4 21.41c.39.39.9.59 1.41.59.51 0 1.02-.2 1.41-.59l7.78-7.78 2.81-2.81c.8-.78.8-2.07 0-2.86zM5.41 20L4 18.59l7.72-7.72 1.47 1.35L5.41 20z\"/>\n",
              "  </svg>\n",
              "      </button>\n",
              "      \n",
              "  <style>\n",
              "    .colab-df-container {\n",
              "      display:flex;\n",
              "      flex-wrap:wrap;\n",
              "      gap: 12px;\n",
              "    }\n",
              "\n",
              "    .colab-df-convert {\n",
              "      background-color: #E8F0FE;\n",
              "      border: none;\n",
              "      border-radius: 50%;\n",
              "      cursor: pointer;\n",
              "      display: none;\n",
              "      fill: #1967D2;\n",
              "      height: 32px;\n",
              "      padding: 0 0 0 0;\n",
              "      width: 32px;\n",
              "    }\n",
              "\n",
              "    .colab-df-convert:hover {\n",
              "      background-color: #E2EBFA;\n",
              "      box-shadow: 0px 1px 2px rgba(60, 64, 67, 0.3), 0px 1px 3px 1px rgba(60, 64, 67, 0.15);\n",
              "      fill: #174EA6;\n",
              "    }\n",
              "\n",
              "    [theme=dark] .colab-df-convert {\n",
              "      background-color: #3B4455;\n",
              "      fill: #D2E3FC;\n",
              "    }\n",
              "\n",
              "    [theme=dark] .colab-df-convert:hover {\n",
              "      background-color: #434B5C;\n",
              "      box-shadow: 0px 1px 3px 1px rgba(0, 0, 0, 0.15);\n",
              "      filter: drop-shadow(0px 1px 2px rgba(0, 0, 0, 0.3));\n",
              "      fill: #FFFFFF;\n",
              "    }\n",
              "  </style>\n",
              "\n",
              "      <script>\n",
              "        const buttonEl =\n",
              "          document.querySelector('#df-b7ef2c9d-25e8-4d23-b34c-468faf4ae95e button.colab-df-convert');\n",
              "        buttonEl.style.display =\n",
              "          google.colab.kernel.accessAllowed ? 'block' : 'none';\n",
              "\n",
              "        async function convertToInteractive(key) {\n",
              "          const element = document.querySelector('#df-b7ef2c9d-25e8-4d23-b34c-468faf4ae95e');\n",
              "          const dataTable =\n",
              "            await google.colab.kernel.invokeFunction('convertToInteractive',\n",
              "                                                     [key], {});\n",
              "          if (!dataTable) return;\n",
              "\n",
              "          const docLinkHtml = 'Like what you see? Visit the ' +\n",
              "            '<a target=\"_blank\" href=https://colab.research.google.com/notebooks/data_table.ipynb>data table notebook</a>'\n",
              "            + ' to learn more about interactive tables.';\n",
              "          element.innerHTML = '';\n",
              "          dataTable['output_type'] = 'display_data';\n",
              "          await google.colab.output.renderOutput(dataTable, element);\n",
              "          const docLink = document.createElement('div');\n",
              "          docLink.innerHTML = docLinkHtml;\n",
              "          element.appendChild(docLink);\n",
              "        }\n",
              "      </script>\n",
              "    </div>\n",
              "  </div>\n",
              "  "
            ]
          },
          "metadata": {},
          "execution_count": 29
        }
      ]
    },
    {
      "cell_type": "markdown",
      "metadata": {
        "id": "yaqK8Zet5drm"
      },
      "source": [
        "Para quem busca imóveis mais requintados, também existem as opções, com a diária acima dos 470 euros."
      ]
    },
    {
      "cell_type": "markdown",
      "metadata": {
        "id": "39yuAr7V-InO"
      },
      "source": [
        "Podemos plotar os pontos de cada imóvel ofertado, pois temos as informações de Lagitude e Longitude. \n",
        "\n",
        "Para isso, considera-se x=longitude e y=latitude."
      ]
    },
    {
      "cell_type": "code",
      "metadata": {
        "id": "UxVJqJ_3W59I",
        "colab": {
          "base_uri": "https://localhost:8080/",
          "height": 473
        },
        "outputId": "35381c6c-7112-4548-b8ac-a02e6a7143f8"
      },
      "source": [
        "# plotar os imóveis pela latitude-longitude\n",
        "df_clean.plot(kind=\"scatter\", x='longitude', y='latitude', alpha=0.4, c=df_clean['price'], s=8,\n",
        "              cmap=plt.get_cmap('jet'), figsize=(12,8));"
      ],
      "execution_count": 30,
      "outputs": [
        {
          "output_type": "display_data",
          "data": {
            "text/plain": [
              "<Figure size 864x576 with 2 Axes>"
            ],
            "image/png": "[encoded data removed]"
          },
          "metadata": {
            "needs_background": "light"
          }
        }
      ]
    },
    {
      "cell_type": "markdown",
      "metadata": {
        "id": "vTneAMRUYvr1"
      },
      "source": [
        "### ***Qual é a média do mínimo de noites para aluguel (minimum_nights)?***"
      ]
    },
    {
      "cell_type": "markdown",
      "metadata": {
        "id": "8SIkR-af8le4"
      },
      "source": [
        "Para obtermos essa informação, utilizamos a variável `minimum_nights`, juntamente com a função `mean()`."
      ]
    },
    {
      "cell_type": "code",
      "metadata": {
        "id": "_VzNhrEgY82N",
        "colab": {
          "base_uri": "https://localhost:8080/"
        },
        "outputId": "426b1564-d450-4933-ec50-97061c14ca97"
      },
      "source": [
        "# ver a média da coluna `minimum_nights``\n",
        "print('Valor da média do mínimo de noites para aluguel: ', df_clean.minimum_nights.mean())"
      ],
      "execution_count": 32,
      "outputs": [
        {
          "output_type": "stream",
          "name": "stdout",
          "text": [
            "Valor da média do mínimo de noites para aluguel:  2.7567180791858803\n"
          ]
        }
      ]
    },
    {
      "cell_type": "markdown",
      "metadata": {
        "id": "GkvAg623RjoR"
      },
      "source": [
        "## ***Conclusões***\n"
      ]
    },
    {
      "cell_type": "markdown",
      "metadata": {
        "id": "rbZ3Hsy9Ypw8"
      },
      "source": [
        "Independente da cidade impor restrições aos serviços das plataformas de aluguel privado, podemos concluir que esses serviços ainda tem uma forte participação no mercado do turismo, dado o número de imóveis disponiveis na plataforma, que conta com mais de 6.000 atualmente.\n",
        "\n",
        "Existem 4 opções de tipo de imóvel para aluguel:\n",
        "\n",
        "*   Apartamento ou casa completo (Entire home/apt), sendo o mais alugado, representando quase 70% do total.\n",
        "*   Quarto de hotel (Hotel room) com um pouco mais de 1%.\n",
        "*   Quarto privativo (Private room) com quase 29%.\n",
        "*   Quarto compartilhado (Shared room) o menos alugado, representando apenas 0,57% do total.\n",
        "\n",
        "As locações mais baratas são os quartos compartilhados, porém estão disponíveis em menor número.\n",
        "\n",
        "Em relação ao número mínimo de diarias exigidas, a média ficou em 2,75 dias e o valor máximo exigido foi de 7 dias.\n",
        "\n",
        "A média dos preços das diárias ficou em 193,52 euros, porem nos bairros mais caros, a diária passa com tranquilidade dos 470 euros. Assim mesmo, pudemos encontrar nesse locais, opções bem mais acessíveis, com preço inicial de 45 euros e com número mínimo de diarias exigidas entre 1 a 3 dias.\n",
        "\n",
        "Este dataset é uma versão resumida, ideal apenas para uma abordagem inicial. Recomenda-se que seja usado, em uma próxima análise exploratória, o conjunto de dados completos, com 106 atributos disponíveis."
      ]
    }
  ]
}